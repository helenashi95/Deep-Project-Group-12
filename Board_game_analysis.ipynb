{
 "cells": [
  {
   "cell_type": "code",
   "execution_count": 1,
   "metadata": {},
   "outputs": [
    {
     "name": "stdout",
     "output_type": "stream",
     "text": [
      "Populating the interactive namespace from numpy and matplotlib\n"
     ]
    }
   ],
   "source": [
    "from pandas import Series, DataFrame\n",
    "import pandas as pd\n",
    "import re\n",
    "%pylab inline"
   ]
  },
  {
   "cell_type": "code",
   "execution_count": 2,
   "metadata": {},
   "outputs": [
    {
     "name": "stdout",
     "output_type": "stream",
     "text": [
      "(4999, 20)\n"
     ]
    },
    {
     "data": {
      "text/html": [
       "<div>\n",
       "<style scoped>\n",
       "    .dataframe tbody tr th:only-of-type {\n",
       "        vertical-align: middle;\n",
       "    }\n",
       "\n",
       "    .dataframe tbody tr th {\n",
       "        vertical-align: top;\n",
       "    }\n",
       "\n",
       "    .dataframe thead th {\n",
       "        text-align: right;\n",
       "    }\n",
       "</style>\n",
       "<table border=\"1\" class=\"dataframe\">\n",
       "  <thead>\n",
       "    <tr style=\"text-align: right;\">\n",
       "      <th></th>\n",
       "      <th>rank</th>\n",
       "      <th>bgg_url</th>\n",
       "      <th>game_id</th>\n",
       "      <th>names</th>\n",
       "      <th>min_players</th>\n",
       "      <th>max_players</th>\n",
       "      <th>avg_time</th>\n",
       "      <th>min_time</th>\n",
       "      <th>max_time</th>\n",
       "      <th>year</th>\n",
       "      <th>avg_rating</th>\n",
       "      <th>geek_rating</th>\n",
       "      <th>num_votes</th>\n",
       "      <th>image_url</th>\n",
       "      <th>age</th>\n",
       "      <th>mechanic</th>\n",
       "      <th>owned</th>\n",
       "      <th>category</th>\n",
       "      <th>designer</th>\n",
       "      <th>weight</th>\n",
       "    </tr>\n",
       "  </thead>\n",
       "  <tbody>\n",
       "    <tr>\n",
       "      <th>0</th>\n",
       "      <td>1</td>\n",
       "      <td>https://boardgamegeek.com/boardgame/174430/glo...</td>\n",
       "      <td>174430</td>\n",
       "      <td>Gloomhaven</td>\n",
       "      <td>1</td>\n",
       "      <td>4</td>\n",
       "      <td>150</td>\n",
       "      <td>90</td>\n",
       "      <td>150</td>\n",
       "      <td>2017</td>\n",
       "      <td>9.01310</td>\n",
       "      <td>8.52234</td>\n",
       "      <td>9841</td>\n",
       "      <td>https://cf.geekdo-images.com/images/pic2437871...</td>\n",
       "      <td>12</td>\n",
       "      <td>Action / Movement Programming, Co-operative Pl...</td>\n",
       "      <td>18217</td>\n",
       "      <td>Adventure, Exploration, Fantasy, Fighting, Min...</td>\n",
       "      <td>Isaac Childres</td>\n",
       "      <td>3.7720</td>\n",
       "    </tr>\n",
       "    <tr>\n",
       "      <th>1</th>\n",
       "      <td>2</td>\n",
       "      <td>https://boardgamegeek.com/boardgame/161936/pan...</td>\n",
       "      <td>161936</td>\n",
       "      <td>Pandemic Legacy: Season 1</td>\n",
       "      <td>2</td>\n",
       "      <td>4</td>\n",
       "      <td>60</td>\n",
       "      <td>60</td>\n",
       "      <td>60</td>\n",
       "      <td>2015</td>\n",
       "      <td>8.66575</td>\n",
       "      <td>8.49837</td>\n",
       "      <td>23489</td>\n",
       "      <td>https://cf.geekdo-images.com/images/pic2452831...</td>\n",
       "      <td>13</td>\n",
       "      <td>Action Point Allowance System, Co-operative Pl...</td>\n",
       "      <td>38105</td>\n",
       "      <td>Environmental, Medical</td>\n",
       "      <td>Rob Daviau, Matt Leacock</td>\n",
       "      <td>2.8056</td>\n",
       "    </tr>\n",
       "    <tr>\n",
       "      <th>2</th>\n",
       "      <td>3</td>\n",
       "      <td>https://boardgamegeek.com/boardgame/182028/thr...</td>\n",
       "      <td>182028</td>\n",
       "      <td>Through the Ages: A New Story of Civilization</td>\n",
       "      <td>2</td>\n",
       "      <td>4</td>\n",
       "      <td>240</td>\n",
       "      <td>180</td>\n",
       "      <td>240</td>\n",
       "      <td>2015</td>\n",
       "      <td>8.65702</td>\n",
       "      <td>8.32401</td>\n",
       "      <td>10679</td>\n",
       "      <td>https://cf.geekdo-images.com/images/pic2663291...</td>\n",
       "      <td>14</td>\n",
       "      <td>Action Point Allowance System, Auction/Bidding...</td>\n",
       "      <td>14147</td>\n",
       "      <td>Card Game, Civilization, Economic</td>\n",
       "      <td>Vlaada Chv�til</td>\n",
       "      <td>4.3538</td>\n",
       "    </tr>\n",
       "    <tr>\n",
       "      <th>3</th>\n",
       "      <td>4</td>\n",
       "      <td>https://boardgamegeek.com/boardgame/12333/twil...</td>\n",
       "      <td>12333</td>\n",
       "      <td>Twilight Struggle</td>\n",
       "      <td>2</td>\n",
       "      <td>2</td>\n",
       "      <td>180</td>\n",
       "      <td>120</td>\n",
       "      <td>180</td>\n",
       "      <td>2005</td>\n",
       "      <td>8.35188</td>\n",
       "      <td>8.21012</td>\n",
       "      <td>29923</td>\n",
       "      <td>https://cf.geekdo-images.com/images/pic361592.jpg</td>\n",
       "      <td>13</td>\n",
       "      <td>Area Control / Area Influence, Campaign / Batt...</td>\n",
       "      <td>41094</td>\n",
       "      <td>Modern Warfare, Political, Wargame</td>\n",
       "      <td>Ananda Gupta, Jason Matthews</td>\n",
       "      <td>3.5446</td>\n",
       "    </tr>\n",
       "    <tr>\n",
       "      <th>4</th>\n",
       "      <td>5</td>\n",
       "      <td>https://boardgamegeek.com/boardgame/167791/ter...</td>\n",
       "      <td>167791</td>\n",
       "      <td>Terraforming Mars</td>\n",
       "      <td>1</td>\n",
       "      <td>5</td>\n",
       "      <td>120</td>\n",
       "      <td>120</td>\n",
       "      <td>120</td>\n",
       "      <td>2016</td>\n",
       "      <td>8.38331</td>\n",
       "      <td>8.17328</td>\n",
       "      <td>20468</td>\n",
       "      <td>https://cf.geekdo-images.com/images/pic3536616...</td>\n",
       "      <td>12</td>\n",
       "      <td>Card Drafting, Hand Management, Tile Placement...</td>\n",
       "      <td>26145</td>\n",
       "      <td>Economic, Environmental, Industry / Manufactur...</td>\n",
       "      <td>Jacob Fryxelius</td>\n",
       "      <td>3.2465</td>\n",
       "    </tr>\n",
       "  </tbody>\n",
       "</table>\n",
       "</div>"
      ],
      "text/plain": [
       "   rank                                            bgg_url  game_id  \\\n",
       "0     1  https://boardgamegeek.com/boardgame/174430/glo...   174430   \n",
       "1     2  https://boardgamegeek.com/boardgame/161936/pan...   161936   \n",
       "2     3  https://boardgamegeek.com/boardgame/182028/thr...   182028   \n",
       "3     4  https://boardgamegeek.com/boardgame/12333/twil...    12333   \n",
       "4     5  https://boardgamegeek.com/boardgame/167791/ter...   167791   \n",
       "\n",
       "                                           names  min_players  max_players  \\\n",
       "0                                     Gloomhaven            1            4   \n",
       "1                      Pandemic Legacy: Season 1            2            4   \n",
       "2  Through the Ages: A New Story of Civilization            2            4   \n",
       "3                              Twilight Struggle            2            2   \n",
       "4                              Terraforming Mars            1            5   \n",
       "\n",
       "   avg_time  min_time  max_time  year  avg_rating  geek_rating  num_votes  \\\n",
       "0       150        90       150  2017     9.01310      8.52234       9841   \n",
       "1        60        60        60  2015     8.66575      8.49837      23489   \n",
       "2       240       180       240  2015     8.65702      8.32401      10679   \n",
       "3       180       120       180  2005     8.35188      8.21012      29923   \n",
       "4       120       120       120  2016     8.38331      8.17328      20468   \n",
       "\n",
       "                                           image_url  age  \\\n",
       "0  https://cf.geekdo-images.com/images/pic2437871...   12   \n",
       "1  https://cf.geekdo-images.com/images/pic2452831...   13   \n",
       "2  https://cf.geekdo-images.com/images/pic2663291...   14   \n",
       "3  https://cf.geekdo-images.com/images/pic361592.jpg   13   \n",
       "4  https://cf.geekdo-images.com/images/pic3536616...   12   \n",
       "\n",
       "                                            mechanic  owned  \\\n",
       "0  Action / Movement Programming, Co-operative Pl...  18217   \n",
       "1  Action Point Allowance System, Co-operative Pl...  38105   \n",
       "2  Action Point Allowance System, Auction/Bidding...  14147   \n",
       "3  Area Control / Area Influence, Campaign / Batt...  41094   \n",
       "4  Card Drafting, Hand Management, Tile Placement...  26145   \n",
       "\n",
       "                                            category  \\\n",
       "0  Adventure, Exploration, Fantasy, Fighting, Min...   \n",
       "1                             Environmental, Medical   \n",
       "2                  Card Game, Civilization, Economic   \n",
       "3                 Modern Warfare, Political, Wargame   \n",
       "4  Economic, Environmental, Industry / Manufactur...   \n",
       "\n",
       "                       designer  weight  \n",
       "0                Isaac Childres  3.7720  \n",
       "1      Rob Daviau, Matt Leacock  2.8056  \n",
       "2                Vlaada Chv�til  4.3538  \n",
       "3  Ananda Gupta, Jason Matthews  3.5446  \n",
       "4               Jacob Fryxelius  3.2465  "
      ]
     },
     "execution_count": 2,
     "metadata": {},
     "output_type": "execute_result"
    }
   ],
   "source": [
    "df = pd.read_csv(\"bgg_db_2018_01.csv\")\n",
    "print df.shape\n",
    "df.head()"
   ]
  },
  {
   "cell_type": "markdown",
   "metadata": {},
   "source": [
    "## Dataset cleaning"
   ]
  },
  {
   "cell_type": "markdown",
   "metadata": {},
   "source": [
    "### Analyzing avg_rating and geek_rating variable"
   ]
  },
  {
   "cell_type": "code",
   "execution_count": 3,
   "metadata": {},
   "outputs": [
    {
     "name": "stdout",
     "output_type": "stream",
     "text": [
      "(4903, 20)\n",
      "0.50    6.883800\n",
      "0.75    7.305275\n",
      "0.95    7.929081\n",
      "0.99    8.326149\n",
      "Name: avg_rating, dtype: float64\n",
      "detractors    4657\n",
      "promoters      246\n",
      "Name: avg_rating_range, dtype: int64\n"
     ]
    },
    {
     "data": {
      "text/plain": [
       "detractors    4657\n",
       "promoters      246\n",
       "Name: geek_rating_range, dtype: int64"
      ]
     },
     "execution_count": 3,
     "metadata": {},
     "output_type": "execute_result"
    }
   ],
   "source": [
    "#Excluding boardgames which do not have atleast than 100 votes\n",
    "df = df[df['num_votes']>=100]\n",
    "#df = df[df['min_players']>0 & df['max_players']>=0 ]\n",
    "print df.shape\n",
    "print df['avg_rating'].quantile([0.5,0.75,0.95,0.99])\n",
    "\n",
    "#creating detractors and promoters for avg_rating (since its a survey result)\n",
    "conditions = [\n",
    "    (df['avg_rating'] <= df['avg_rating'].quantile(0.95)),\n",
    "    (df['avg_rating'] > df['avg_rating'].quantile(0.95))]\n",
    "choices = ['detractors', 'promoters']\n",
    "df['avg_rating_range'] = np.select(conditions, choices)\n",
    "print df['avg_rating_range'].value_counts()\n",
    "\n",
    "#creating detractors and promoters for geek_rating (since its a survey result)\n",
    "conditions = [\n",
    "    (df['geek_rating'] <= df['geek_rating'].quantile(0.95)),\n",
    "    (df['geek_rating'] > df['geek_rating'].quantile(0.95))]\n",
    "choices = ['detractors', 'promoters']\n",
    "df['geek_rating_range'] = np.select(conditions, choices)\n",
    "df['geek_rating_range'].value_counts()"
   ]
  },
  {
   "cell_type": "markdown",
   "metadata": {},
   "source": [
    "## EDA"
   ]
  },
  {
   "cell_type": "markdown",
   "metadata": {},
   "source": [
    "### Number of players"
   ]
  },
  {
   "cell_type": "code",
   "execution_count": 4,
   "metadata": {},
   "outputs": [
    {
     "data": {
      "text/plain": [
       "Text(0.5,0,'Min_players')"
      ]
     },
     "execution_count": 4,
     "metadata": {},
     "output_type": "execute_result"
    },
    {
     "data": {
      "image/png": "[encoded data removed]",
      "text/plain": [
       "<Figure size 432x288 with 1 Axes>"
      ]
     },
     "metadata": {},
     "output_type": "display_data"
    }
   ],
   "source": [
    "df['min_players'].hist()\n",
    "xlabel('Min_players')"
   ]
  },
  {
   "cell_type": "code",
   "execution_count": 5,
   "metadata": {},
   "outputs": [
    {
     "data": {
      "text/plain": [
       "<matplotlib.axes._subplots.AxesSubplot at 0xa1d2860>"
      ]
     },
     "execution_count": 5,
     "metadata": {},
     "output_type": "execute_result"
    },
    {
     "data": {
      "image/png": "[encoded data removed]",
      "text/plain": [
       "<Figure size 432x288 with 1 Axes>"
      ]
     },
     "metadata": {},
     "output_type": "display_data"
    }
   ],
   "source": [
    "#max_players has a long tail\n",
    "df['max_players'].hist()"
   ]
  },
  {
   "cell_type": "code",
   "execution_count": 6,
   "metadata": {},
   "outputs": [
    {
     "data": {
      "text/plain": [
       "Text(0.5,0,'Max players')"
      ]
     },
     "execution_count": 6,
     "metadata": {},
     "output_type": "execute_result"
    },
    {
     "data": {
      "image/png": "[encoded data removed]",
      "text/plain": [
       "<Figure size 432x288 with 1 Axes>"
      ]
     },
     "metadata": {},
     "output_type": "display_data"
    }
   ],
   "source": [
    "#checking the popular categories by condensing the tail\n",
    "dfx = df[df['max_players']<=10]\n",
    "dfx['max_players'].hist()\n",
    "xlabel(\"Max players\") #peak at 4 and 6"
   ]
  },
  {
   "cell_type": "code",
   "execution_count": 7,
   "metadata": {},
   "outputs": [
    {
     "data": {
      "text/plain": [
       "f                1244\n",
       "g                1047\n",
       "two_player        799\n",
       "j                 433\n",
       "b                 316\n",
       "l                 214\n",
       "c                 206\n",
       "h                 175\n",
       "a                 122\n",
       "i                 121\n",
       "k                 111\n",
       "single_player      81\n",
       "d                  34\n",
       "Name: num_players, dtype: int64"
      ]
     },
     "execution_count": 7,
     "metadata": {},
     "output_type": "execute_result"
    }
   ],
   "source": [
    "#creating categories single player, and multiplayer 0-2,1-2, 1-4, 1-6,1-8,>8 based on histograms\n",
    "conditions = [\n",
    "    (df['min_players'] <= 1) & (df['max_players'] <= 1) ,\n",
    "    (df['min_players'] <= 1) & (df['max_players'] <= 2) ,\n",
    "    (df['min_players'] <= 1) & (df['max_players'] <= 4) ,\n",
    "    (df['min_players'] <= 1) & (df['max_players'] <= 6) ,\n",
    "    (df['min_players'] <= 1) & (df['max_players'] <= 8) ,\n",
    "    (df['min_players'] == 2) & (df['max_players'] <= 2) ,\n",
    "    (df['min_players'] == 2) & (df['max_players'] <= 4) ,\n",
    "    (df['min_players'] == 2) & (df['max_players'] <= 6) ,\n",
    "    (df['min_players'] == 2) & (df['max_players'] <= 8) ,\n",
    "    (df['min_players'] > 2) & (df['max_players'] <= 4) ,\n",
    "    (df['min_players'] > 2) & (df['max_players'] <= 6) ,\n",
    "    (df['min_players'] > 2) & (df['max_players'] <= 8) ,\n",
    "    (df['max_players'] > 8) ,\n",
    "]\n",
    "choices = ['single_player', 'a','b','c','d','two_player','f','g','h','i','j','k','l']\n",
    "df['num_players'] = np.select(conditions, choices)\n",
    "df['num_players'].value_counts()\n",
    "\n",
    "# Key:\n",
    "# a: 1 to 2\n",
    "# b: 1 to 4\n",
    "# c: 1 to 6\n",
    "# d: 1 to 8\n",
    "# f: 2 to 4\n",
    "# g: 2 to 6\n",
    "# h: 2 to 8\n",
    "# i: 2+ to 4\n",
    "# j: 2+ to 6\n",
    "# k: 2+ to 8\n",
    "# l: 8+"
   ]
  },
  {
   "cell_type": "code",
   "execution_count": 8,
   "metadata": {},
   "outputs": [
    {
     "name": "stdout",
     "output_type": "stream",
     "text": [
      "avg_rating_range  detractors  promoters       NPS\n",
      "num_players                                      \n",
      "two_player               731         68  0.119455\n",
      "b                        274         42  0.111896\n",
      "a                        100         22  0.067958\n",
      "single_player             70         11  0.029684\n",
      "c                        191         15  0.019962\n",
      "d                         32          2  0.001259\n",
      "k                        108          3 -0.010996\n",
      "h                        169          6 -0.011899\n",
      "i                        119          2 -0.017423\n",
      "l                        208          6 -0.020274\n",
      "j                        429          4 -0.075859\n",
      "f                       1200         44 -0.078815\n",
      "g                       1026         21 -0.134948\n"
     ]
    },
    {
     "ename": "IOError",
     "evalue": "[Errno 13] Permission denied: 'num_players.csv'",
     "output_type": "error",
     "traceback": [
      "\u001b[1;31m---------------------------------------------------------------------------\u001b[0m",
      "\u001b[1;31mIOError\u001b[0m                                   Traceback (most recent call last)",
      "\u001b[1;32m<ipython-input-8-8dddbea2ebf6>\u001b[0m in \u001b[0;36m<module>\u001b[1;34m()\u001b[0m\n\u001b[0;32m      3\u001b[0m \u001b[0mcdf\u001b[0m\u001b[1;33m[\u001b[0m\u001b[1;34m'NPS'\u001b[0m\u001b[1;33m]\u001b[0m \u001b[1;33m=\u001b[0m \u001b[0mcdf\u001b[0m\u001b[1;33m[\u001b[0m\u001b[1;34m'promoters'\u001b[0m\u001b[1;33m]\u001b[0m\u001b[1;33m/\u001b[0m\u001b[1;36m246\u001b[0m \u001b[1;33m-\u001b[0m \u001b[0mcdf\u001b[0m\u001b[1;33m[\u001b[0m\u001b[1;34m'detractors'\u001b[0m\u001b[1;33m]\u001b[0m\u001b[1;33m/\u001b[0m\u001b[1;36m4657\u001b[0m\u001b[1;33m\u001b[0m\u001b[0m\n\u001b[0;32m      4\u001b[0m \u001b[1;32mprint\u001b[0m \u001b[0mcdf\u001b[0m\u001b[1;33m.\u001b[0m\u001b[0msort_values\u001b[0m\u001b[1;33m(\u001b[0m\u001b[1;34m'NPS'\u001b[0m\u001b[1;33m,\u001b[0m\u001b[0mascending\u001b[0m \u001b[1;33m=\u001b[0m \u001b[0mFalse\u001b[0m\u001b[1;33m)\u001b[0m\u001b[1;33m\u001b[0m\u001b[0m\n\u001b[1;32m----> 5\u001b[1;33m \u001b[0mcdf\u001b[0m\u001b[1;33m.\u001b[0m\u001b[0mto_csv\u001b[0m\u001b[1;33m(\u001b[0m\u001b[1;34m\"num_players.csv\"\u001b[0m\u001b[1;33m)\u001b[0m\u001b[1;33m\u001b[0m\u001b[0m\n\u001b[0m\u001b[0;32m      6\u001b[0m \u001b[0mcdf\u001b[0m \u001b[1;33m=\u001b[0m \u001b[0mdf\u001b[0m\u001b[1;33m.\u001b[0m\u001b[0mgroupby\u001b[0m\u001b[1;33m(\u001b[0m\u001b[1;33m[\u001b[0m\u001b[1;34m'num_players'\u001b[0m\u001b[1;33m,\u001b[0m\u001b[1;34m'geek_rating_range'\u001b[0m\u001b[1;33m]\u001b[0m\u001b[1;33m)\u001b[0m\u001b[1;33m[\u001b[0m\u001b[1;34m'game_id'\u001b[0m\u001b[1;33m]\u001b[0m\u001b[1;33m.\u001b[0m\u001b[0mcount\u001b[0m\u001b[1;33m(\u001b[0m\u001b[1;33m)\u001b[0m\u001b[1;33m.\u001b[0m\u001b[0munstack\u001b[0m\u001b[1;33m(\u001b[0m\u001b[1;33m)\u001b[0m\u001b[1;33m\u001b[0m\u001b[0m\n\u001b[0;32m      7\u001b[0m \u001b[0mcdf\u001b[0m\u001b[1;33m[\u001b[0m\u001b[1;34m'NPS'\u001b[0m\u001b[1;33m]\u001b[0m \u001b[1;33m=\u001b[0m \u001b[0mcdf\u001b[0m\u001b[1;33m[\u001b[0m\u001b[1;34m'promoters'\u001b[0m\u001b[1;33m]\u001b[0m\u001b[1;33m/\u001b[0m\u001b[1;36m246\u001b[0m \u001b[1;33m-\u001b[0m \u001b[0mcdf\u001b[0m\u001b[1;33m[\u001b[0m\u001b[1;34m'detractors'\u001b[0m\u001b[1;33m]\u001b[0m\u001b[1;33m/\u001b[0m\u001b[1;36m4657\u001b[0m\u001b[1;33m\u001b[0m\u001b[0m\n",
      "\u001b[1;32mC:\\Users\\abhin\\Anaconda2\\lib\\site-packages\\pandas\\core\\frame.pyc\u001b[0m in \u001b[0;36mto_csv\u001b[1;34m(self, path_or_buf, sep, na_rep, float_format, columns, header, index, index_label, mode, encoding, compression, quoting, quotechar, line_terminator, chunksize, tupleize_cols, date_format, doublequote, escapechar, decimal)\u001b[0m\n\u001b[0;32m   1743\u001b[0m                                  \u001b[0mdoublequote\u001b[0m\u001b[1;33m=\u001b[0m\u001b[0mdoublequote\u001b[0m\u001b[1;33m,\u001b[0m\u001b[1;33m\u001b[0m\u001b[0m\n\u001b[0;32m   1744\u001b[0m                                  escapechar=escapechar, decimal=decimal)\n\u001b[1;32m-> 1745\u001b[1;33m         \u001b[0mformatter\u001b[0m\u001b[1;33m.\u001b[0m\u001b[0msave\u001b[0m\u001b[1;33m(\u001b[0m\u001b[1;33m)\u001b[0m\u001b[1;33m\u001b[0m\u001b[0m\n\u001b[0m\u001b[0;32m   1746\u001b[0m \u001b[1;33m\u001b[0m\u001b[0m\n\u001b[0;32m   1747\u001b[0m         \u001b[1;32mif\u001b[0m \u001b[0mpath_or_buf\u001b[0m \u001b[1;32mis\u001b[0m \u001b[0mNone\u001b[0m\u001b[1;33m:\u001b[0m\u001b[1;33m\u001b[0m\u001b[0m\n",
      "\u001b[1;32mC:\\Users\\abhin\\Anaconda2\\lib\\site-packages\\pandas\\io\\formats\\csvs.pyc\u001b[0m in \u001b[0;36msave\u001b[1;34m(self)\u001b[0m\n\u001b[0;32m    134\u001b[0m             f, handles = _get_handle(self.path_or_buf, self.mode,\n\u001b[0;32m    135\u001b[0m                                      \u001b[0mencoding\u001b[0m\u001b[1;33m=\u001b[0m\u001b[0mencoding\u001b[0m\u001b[1;33m,\u001b[0m\u001b[1;33m\u001b[0m\u001b[0m\n\u001b[1;32m--> 136\u001b[1;33m                                      compression=None)\n\u001b[0m\u001b[0;32m    137\u001b[0m             \u001b[0mclose\u001b[0m \u001b[1;33m=\u001b[0m \u001b[0mTrue\u001b[0m \u001b[1;32mif\u001b[0m \u001b[0mself\u001b[0m\u001b[1;33m.\u001b[0m\u001b[0mcompression\u001b[0m \u001b[1;32mis\u001b[0m \u001b[0mNone\u001b[0m \u001b[1;32melse\u001b[0m \u001b[0mFalse\u001b[0m\u001b[1;33m\u001b[0m\u001b[0m\n\u001b[0;32m    138\u001b[0m \u001b[1;33m\u001b[0m\u001b[0m\n",
      "\u001b[1;32mC:\\Users\\abhin\\Anaconda2\\lib\\site-packages\\pandas\\io\\common.pyc\u001b[0m in \u001b[0;36m_get_handle\u001b[1;34m(path_or_buf, mode, encoding, compression, memory_map, is_text)\u001b[0m\n\u001b[0;32m    395\u001b[0m         \u001b[1;32mif\u001b[0m \u001b[0mcompat\u001b[0m\u001b[1;33m.\u001b[0m\u001b[0mPY2\u001b[0m\u001b[1;33m:\u001b[0m\u001b[1;33m\u001b[0m\u001b[0m\n\u001b[0;32m    396\u001b[0m             \u001b[1;31m# Python 2\u001b[0m\u001b[1;33m\u001b[0m\u001b[1;33m\u001b[0m\u001b[0m\n\u001b[1;32m--> 397\u001b[1;33m             \u001b[0mf\u001b[0m \u001b[1;33m=\u001b[0m \u001b[0mopen\u001b[0m\u001b[1;33m(\u001b[0m\u001b[0mpath_or_buf\u001b[0m\u001b[1;33m,\u001b[0m \u001b[0mmode\u001b[0m\u001b[1;33m)\u001b[0m\u001b[1;33m\u001b[0m\u001b[0m\n\u001b[0m\u001b[0;32m    398\u001b[0m         \u001b[1;32melif\u001b[0m \u001b[0mencoding\u001b[0m\u001b[1;33m:\u001b[0m\u001b[1;33m\u001b[0m\u001b[0m\n\u001b[0;32m    399\u001b[0m             \u001b[1;31m# Python 3 and encoding\u001b[0m\u001b[1;33m\u001b[0m\u001b[1;33m\u001b[0m\u001b[0m\n",
      "\u001b[1;31mIOError\u001b[0m: [Errno 13] Permission denied: 'num_players.csv'"
     ]
    }
   ],
   "source": [
    "#Checking avg_rating and geek_rating NPS for player range\n",
    "cdf = df.groupby(['num_players','avg_rating_range'])['game_id'].count().unstack()\n",
    "cdf['NPS'] = cdf['promoters']/246 - cdf['detractors']/4657\n",
    "print cdf.sort_values('NPS',ascending = False)\n",
    "cdf.to_csv(\"num_players.csv\")\n",
    "cdf = df.groupby(['num_players','geek_rating_range'])['game_id'].count().unstack()\n",
    "cdf['NPS'] = cdf['promoters']/246 - cdf['detractors']/4657\n",
    "cdf.sort_values('NPS',ascending = False)\n",
    "\n",
    "#two player games are most popular followed by 1 to 4 players\n",
    "# Key:\n",
    "# a: 1 to 2\n",
    "# b: 1 to 4\n",
    "# c: 1 to 6\n",
    "# d: 1 to 8\n",
    "# f: 2 to 4\n",
    "# g: 2 to 6\n",
    "# h: 2 to 8\n",
    "# i: 3+ to 4\n",
    "# j: 3+ to 6\n",
    "# k: 3+ to 8\n",
    "# l: 8+\n"
   ]
  },
  {
   "cell_type": "markdown",
   "metadata": {},
   "source": [
    "### Average time"
   ]
  },
  {
   "cell_type": "code",
   "execution_count": null,
   "metadata": {},
   "outputs": [],
   "source": [
    "#Average time\n",
    "print df['avg_time'].describe()\n",
    "print df['avg_time'].quantile([0.5,0.75,0.95,0.99])\n",
    "#df['avg_time'].hist()\n",
    "\n",
    "dfx = df[df['avg_time']<=720]\n",
    "dfx['avg_time'].hist()\n",
    "xlabel(\"Avg Time\") #peak at 4 and 6\n",
    "print dfx['avg_time'].describe()\n",
    "print dfx['avg_time'].quantile([0.5,0.75,0.95,0.99])"
   ]
  },
  {
   "cell_type": "code",
   "execution_count": null,
   "metadata": {},
   "outputs": [],
   "source": [
    "#Bucketing avg_time into 5 buckets:\n",
    "# Longer games are more popular\n",
    "df['avg_time_bucket'] = pd.qcut(df['avg_time'],8)\n",
    "cdf = df.groupby(['avg_time_bucket','avg_rating_range'])['game_id'].count().unstack()\n",
    "cdf['NPS'] = cdf['promoters']/246 - cdf['detractors']/4657\n",
    "cdf.to_csv(\"avg_time.csv\")\n",
    "cdf.sort_values('avg_time_bucket',ascending = True)\n",
    "\n",
    "\n",
    "#cdf = pd.crosstab(df['avg_time_bucket'],df['geek_rating_range']).apply(lambda c: c/c.sum())\n",
    "#cdf['NPS'] = cdf['promoters'] - cdf['detractors']\n",
    "#cdf.sort_values('avg_time_bucket',ascending = True)"
   ]
  },
  {
   "cell_type": "markdown",
   "metadata": {},
   "source": [
    "#### Min Age for the game"
   ]
  },
  {
   "cell_type": "code",
   "execution_count": null,
   "metadata": {},
   "outputs": [],
   "source": [
    "#Games for mature audience is more popular\n",
    "#checking for age\n",
    "#print df['age'].describe()\n",
    "#print df['age'].quantile([0.5,0.75,0.95,0.99])\n",
    "df['age'].hist()\n",
    "\n",
    "df['age_bucket'] = pd.qcut(df['age'],5)\n",
    "cdf = df.groupby(['age_bucket','avg_rating_range'])['game_id'].count().unstack()\n",
    "cdf['NPS'] = cdf['promoters']/246 - cdf['detractors']/4657\n",
    "cdf.sort_values('age_bucket',ascending = True)\n",
    "cdf.to_csv(\"ageplayer_game.csv\")"
   ]
  },
  {
   "cell_type": "markdown",
   "metadata": {},
   "source": [
    "### Complexity of the game"
   ]
  },
  {
   "cell_type": "code",
   "execution_count": 13,
   "metadata": {},
   "outputs": [
    {
     "name": "stdout",
     "output_type": "stream",
     "text": [
      "avg_rating_range  detractors  promoters       NPS\n",
      "weight_bucket                                    \n",
      "(3.454, 4.869]         378.0      113.0  0.378181\n",
      "(3.032, 3.454]         431.0       59.0  0.147289\n",
      "(2.726, 3.032]         459.0       31.0  0.027455\n",
      "(2.5, 2.726]           446.0       18.0 -0.022599\n",
      "(2.282, 2.5]           503.0       13.0 -0.055164\n",
      "(2.06, 2.282]          485.0        5.0 -0.083819\n",
      "(1.852, 2.06]          487.0        4.0 -0.088314\n",
      "(-0.001, 1.292]        490.0        2.0 -0.097088\n",
      "(1.292, 1.6]           507.0        1.0 -0.104803\n",
      "(1.6, 1.852]           471.0        NaN       NaN\n"
     ]
    },
    {
     "ename": "IOError",
     "evalue": "[Errno 13] Permission denied: 'weight.csv'",
     "output_type": "error",
     "traceback": [
      "\u001b[1;31m---------------------------------------------------------------------------\u001b[0m",
      "\u001b[1;31mIOError\u001b[0m                                   Traceback (most recent call last)",
      "\u001b[1;32m<ipython-input-13-b07f534aeb6a>\u001b[0m in \u001b[0;36m<module>\u001b[1;34m()\u001b[0m\n\u001b[0;32m      8\u001b[0m \u001b[1;32mprint\u001b[0m \u001b[0mcdf\u001b[0m\u001b[1;33m.\u001b[0m\u001b[0msort_values\u001b[0m\u001b[1;33m(\u001b[0m\u001b[1;34m'NPS'\u001b[0m\u001b[1;33m,\u001b[0m\u001b[0mascending\u001b[0m \u001b[1;33m=\u001b[0m \u001b[0mFalse\u001b[0m\u001b[1;33m)\u001b[0m\u001b[1;33m\u001b[0m\u001b[0m\n\u001b[0;32m      9\u001b[0m \u001b[1;31m#classics and younger games are loved by game lovers\u001b[0m\u001b[1;33m\u001b[0m\u001b[1;33m\u001b[0m\u001b[0m\n\u001b[1;32m---> 10\u001b[1;33m \u001b[0mcdf\u001b[0m\u001b[1;33m.\u001b[0m\u001b[0mto_csv\u001b[0m\u001b[1;33m(\u001b[0m\u001b[1;34m\"weight.csv\"\u001b[0m\u001b[1;33m)\u001b[0m\u001b[1;33m\u001b[0m\u001b[0m\n\u001b[0m\u001b[0;32m     11\u001b[0m \u001b[0mcdf\u001b[0m \u001b[1;33m=\u001b[0m \u001b[0mdf\u001b[0m\u001b[1;33m.\u001b[0m\u001b[0mgroupby\u001b[0m\u001b[1;33m(\u001b[0m\u001b[1;33m[\u001b[0m\u001b[1;34m'weight_bucket'\u001b[0m\u001b[1;33m,\u001b[0m\u001b[1;34m'geek_rating_range'\u001b[0m\u001b[1;33m]\u001b[0m\u001b[1;33m)\u001b[0m\u001b[1;33m[\u001b[0m\u001b[1;34m'game_id'\u001b[0m\u001b[1;33m]\u001b[0m\u001b[1;33m.\u001b[0m\u001b[0mcount\u001b[0m\u001b[1;33m(\u001b[0m\u001b[1;33m)\u001b[0m\u001b[1;33m.\u001b[0m\u001b[0munstack\u001b[0m\u001b[1;33m(\u001b[0m\u001b[1;33m)\u001b[0m\u001b[1;33m\u001b[0m\u001b[0m\n\u001b[0;32m     12\u001b[0m \u001b[0mcdf\u001b[0m\u001b[1;33m[\u001b[0m\u001b[1;34m'NPS'\u001b[0m\u001b[1;33m]\u001b[0m \u001b[1;33m=\u001b[0m \u001b[0mcdf\u001b[0m\u001b[1;33m[\u001b[0m\u001b[1;34m'promoters'\u001b[0m\u001b[1;33m]\u001b[0m\u001b[1;33m/\u001b[0m\u001b[1;36m246\u001b[0m \u001b[1;33m-\u001b[0m \u001b[0mcdf\u001b[0m\u001b[1;33m[\u001b[0m\u001b[1;34m'detractors'\u001b[0m\u001b[1;33m]\u001b[0m\u001b[1;33m/\u001b[0m\u001b[1;36m4657\u001b[0m\u001b[1;33m\u001b[0m\u001b[0m\n",
      "\u001b[1;32mC:\\Users\\abhin\\Anaconda2\\lib\\site-packages\\pandas\\core\\frame.pyc\u001b[0m in \u001b[0;36mto_csv\u001b[1;34m(self, path_or_buf, sep, na_rep, float_format, columns, header, index, index_label, mode, encoding, compression, quoting, quotechar, line_terminator, chunksize, tupleize_cols, date_format, doublequote, escapechar, decimal)\u001b[0m\n\u001b[0;32m   1743\u001b[0m                                  \u001b[0mdoublequote\u001b[0m\u001b[1;33m=\u001b[0m\u001b[0mdoublequote\u001b[0m\u001b[1;33m,\u001b[0m\u001b[1;33m\u001b[0m\u001b[0m\n\u001b[0;32m   1744\u001b[0m                                  escapechar=escapechar, decimal=decimal)\n\u001b[1;32m-> 1745\u001b[1;33m         \u001b[0mformatter\u001b[0m\u001b[1;33m.\u001b[0m\u001b[0msave\u001b[0m\u001b[1;33m(\u001b[0m\u001b[1;33m)\u001b[0m\u001b[1;33m\u001b[0m\u001b[0m\n\u001b[0m\u001b[0;32m   1746\u001b[0m \u001b[1;33m\u001b[0m\u001b[0m\n\u001b[0;32m   1747\u001b[0m         \u001b[1;32mif\u001b[0m \u001b[0mpath_or_buf\u001b[0m \u001b[1;32mis\u001b[0m \u001b[0mNone\u001b[0m\u001b[1;33m:\u001b[0m\u001b[1;33m\u001b[0m\u001b[0m\n",
      "\u001b[1;32mC:\\Users\\abhin\\Anaconda2\\lib\\site-packages\\pandas\\io\\formats\\csvs.pyc\u001b[0m in \u001b[0;36msave\u001b[1;34m(self)\u001b[0m\n\u001b[0;32m    134\u001b[0m             f, handles = _get_handle(self.path_or_buf, self.mode,\n\u001b[0;32m    135\u001b[0m                                      \u001b[0mencoding\u001b[0m\u001b[1;33m=\u001b[0m\u001b[0mencoding\u001b[0m\u001b[1;33m,\u001b[0m\u001b[1;33m\u001b[0m\u001b[0m\n\u001b[1;32m--> 136\u001b[1;33m                                      compression=None)\n\u001b[0m\u001b[0;32m    137\u001b[0m             \u001b[0mclose\u001b[0m \u001b[1;33m=\u001b[0m \u001b[0mTrue\u001b[0m \u001b[1;32mif\u001b[0m \u001b[0mself\u001b[0m\u001b[1;33m.\u001b[0m\u001b[0mcompression\u001b[0m \u001b[1;32mis\u001b[0m \u001b[0mNone\u001b[0m \u001b[1;32melse\u001b[0m \u001b[0mFalse\u001b[0m\u001b[1;33m\u001b[0m\u001b[0m\n\u001b[0;32m    138\u001b[0m \u001b[1;33m\u001b[0m\u001b[0m\n",
      "\u001b[1;32mC:\\Users\\abhin\\Anaconda2\\lib\\site-packages\\pandas\\io\\common.pyc\u001b[0m in \u001b[0;36m_get_handle\u001b[1;34m(path_or_buf, mode, encoding, compression, memory_map, is_text)\u001b[0m\n\u001b[0;32m    395\u001b[0m         \u001b[1;32mif\u001b[0m \u001b[0mcompat\u001b[0m\u001b[1;33m.\u001b[0m\u001b[0mPY2\u001b[0m\u001b[1;33m:\u001b[0m\u001b[1;33m\u001b[0m\u001b[0m\n\u001b[0;32m    396\u001b[0m             \u001b[1;31m# Python 2\u001b[0m\u001b[1;33m\u001b[0m\u001b[1;33m\u001b[0m\u001b[0m\n\u001b[1;32m--> 397\u001b[1;33m             \u001b[0mf\u001b[0m \u001b[1;33m=\u001b[0m \u001b[0mopen\u001b[0m\u001b[1;33m(\u001b[0m\u001b[0mpath_or_buf\u001b[0m\u001b[1;33m,\u001b[0m \u001b[0mmode\u001b[0m\u001b[1;33m)\u001b[0m\u001b[1;33m\u001b[0m\u001b[0m\n\u001b[0m\u001b[0;32m    398\u001b[0m         \u001b[1;32melif\u001b[0m \u001b[0mencoding\u001b[0m\u001b[1;33m:\u001b[0m\u001b[1;33m\u001b[0m\u001b[0m\n\u001b[0;32m    399\u001b[0m             \u001b[1;31m# Python 3 and encoding\u001b[0m\u001b[1;33m\u001b[0m\u001b[1;33m\u001b[0m\u001b[0m\n",
      "\u001b[1;31mIOError\u001b[0m: [Errno 13] Permission denied: 'weight.csv'"
     ]
    },
    {
     "data": {
      "image/png": "[encoded data removed]",
      "text/plain": [
       "<Figure size 432x288 with 1 Axes>"
      ]
     },
     "metadata": {},
     "output_type": "display_data"
    }
   ],
   "source": [
    "#Complex games are preferred\n",
    "df['weight'].hist()\n",
    "\n",
    "df['weight_bucket'] = pd.qcut(df['weight'],10)\n",
    "cdf = df.groupby(['weight_bucket','avg_rating_range'])['game_id'].count().unstack()\n",
    "cdf['NPS'] = cdf['promoters']/246 - cdf['detractors']/4657\n",
    "#print cdf.sort_values('weight_bucket',ascending = True)\n",
    "print cdf.sort_values('NPS',ascending = False)\n",
    "#classics and younger games are loved by game lovers\n",
    "cdf.to_csv(\"weight.csv\")\n",
    "cdf = df.groupby(['weight_bucket','geek_rating_range'])['game_id'].count().unstack()\n",
    "cdf['NPS'] = cdf['promoters']/246 - cdf['detractors']/4657\n",
    "#cdf.sort_values('weight_bucket',ascending = True)\n",
    "print cdf.sort_values('NPS',ascending = False)"
   ]
  },
  {
   "cell_type": "markdown",
   "metadata": {},
   "source": [
    "### Mechanic of the game"
   ]
  },
  {
   "cell_type": "code",
   "execution_count": 14,
   "metadata": {},
   "outputs": [
    {
     "name": "stdout",
     "output_type": "stream",
     "text": [
      "avg_rating_range               detractors  promoters       NPS\n",
      "mechanic_c                                                    \n",
      "Action Point Allowance System       334.0       35.0  0.070556\n",
      "Dice Rolling                        585.0       43.0  0.049179\n",
      "HexandCounter                       154.0       20.0  0.048232\n",
      "Campaign  Battle Card Driven         84.0       14.0  0.038873\n",
      "Action  Movement Programming        109.0       14.0  0.033505\n",
      "Cooperative Play                    215.0       16.0  0.018874\n",
      "ChitPull System                      39.0        6.0  0.016016\n",
      "Area Enclosure                       45.0        6.0  0.014727\n",
      "Deck  Pool Building                  92.0        7.0  0.008700\n",
      "Variable Phase Order                  2.0        1.0  0.003636\n"
     ]
    },
    {
     "data": {
      "text/html": [
       "<div>\n",
       "<style scoped>\n",
       "    .dataframe tbody tr th:only-of-type {\n",
       "        vertical-align: middle;\n",
       "    }\n",
       "\n",
       "    .dataframe tbody tr th {\n",
       "        vertical-align: top;\n",
       "    }\n",
       "\n",
       "    .dataframe thead th {\n",
       "        text-align: right;\n",
       "    }\n",
       "</style>\n",
       "<table border=\"1\" class=\"dataframe\">\n",
       "  <thead>\n",
       "    <tr style=\"text-align: right;\">\n",
       "      <th>geek_rating_range</th>\n",
       "      <th>detractors</th>\n",
       "      <th>promoters</th>\n",
       "      <th>NPS</th>\n",
       "    </tr>\n",
       "    <tr>\n",
       "      <th>mechanic_c</th>\n",
       "      <th></th>\n",
       "      <th></th>\n",
       "      <th></th>\n",
       "    </tr>\n",
       "  </thead>\n",
       "  <tbody>\n",
       "    <tr>\n",
       "      <th>Card Drafting</th>\n",
       "      <td>349.0</td>\n",
       "      <td>39.0</td>\n",
       "      <td>0.083596</td>\n",
       "    </tr>\n",
       "    <tr>\n",
       "      <th>Area Control  Area Influence</th>\n",
       "      <td>502.0</td>\n",
       "      <td>45.0</td>\n",
       "      <td>0.075132</td>\n",
       "    </tr>\n",
       "    <tr>\n",
       "      <th>Action Point Allowance System</th>\n",
       "      <td>338.0</td>\n",
       "      <td>31.0</td>\n",
       "      <td>0.053437</td>\n",
       "    </tr>\n",
       "    <tr>\n",
       "      <th>Action  Movement Programming</th>\n",
       "      <td>111.0</td>\n",
       "      <td>12.0</td>\n",
       "      <td>0.024945</td>\n",
       "    </tr>\n",
       "    <tr>\n",
       "      <th>Worker Placement</th>\n",
       "      <td>17.0</td>\n",
       "      <td>6.0</td>\n",
       "      <td>0.020740</td>\n",
       "    </tr>\n",
       "    <tr>\n",
       "      <th>Partnerships</th>\n",
       "      <td>62.0</td>\n",
       "      <td>6.0</td>\n",
       "      <td>0.011077</td>\n",
       "    </tr>\n",
       "    <tr>\n",
       "      <th>Area Enclosure</th>\n",
       "      <td>46.0</td>\n",
       "      <td>5.0</td>\n",
       "      <td>0.010448</td>\n",
       "    </tr>\n",
       "    <tr>\n",
       "      <th>Memory</th>\n",
       "      <td>42.0</td>\n",
       "      <td>4.0</td>\n",
       "      <td>0.007241</td>\n",
       "    </tr>\n",
       "    <tr>\n",
       "      <th>Cooperative Play</th>\n",
       "      <td>218.0</td>\n",
       "      <td>13.0</td>\n",
       "      <td>0.006034</td>\n",
       "    </tr>\n",
       "    <tr>\n",
       "      <th>Grid Movement</th>\n",
       "      <td>89.0</td>\n",
       "      <td>6.0</td>\n",
       "      <td>0.005279</td>\n",
       "    </tr>\n",
       "  </tbody>\n",
       "</table>\n",
       "</div>"
      ],
      "text/plain": [
       "geek_rating_range              detractors  promoters       NPS\n",
       "mechanic_c                                                    \n",
       "Card Drafting                       349.0       39.0  0.083596\n",
       "Area Control  Area Influence        502.0       45.0  0.075132\n",
       "Action Point Allowance System       338.0       31.0  0.053437\n",
       "Action  Movement Programming        111.0       12.0  0.024945\n",
       "Worker Placement                     17.0        6.0  0.020740\n",
       "Partnerships                         62.0        6.0  0.011077\n",
       "Area Enclosure                       46.0        5.0  0.010448\n",
       "Memory                               42.0        4.0  0.007241\n",
       "Cooperative Play                    218.0       13.0  0.006034\n",
       "Grid Movement                        89.0        6.0  0.005279"
      ]
     },
     "execution_count": 14,
     "metadata": {},
     "output_type": "execute_result"
    }
   ],
   "source": [
    "#Splitting string variables\n",
    "#mechanic, category and designer features have text which is comma separated. Breaking them up into different features\n",
    "df['mechanic_c'] = df['mechanic'].apply(lambda x: re.sub(r'[^\\,\\s\\w]','',x))\n",
    "games_mechanics= DataFrame(df['mechanic_c'].str.split(',').tolist(),index=df['avg_rating'])\n",
    "games_mechanics = games_mechanics.reset_index()[[0, 'avg_rating']]\n",
    "games_mechanics.columns = ['mechanic_c', 'avg_rating']\n",
    "\n",
    "conditions = [\n",
    "    (games_mechanics['avg_rating'] <= df['avg_rating'].quantile(0.95)),\n",
    "    (games_mechanics['avg_rating'] > df['avg_rating'].quantile(0.95))]\n",
    "choices = ['detractors', 'promoters']\n",
    "games_mechanics['avg_rating_range'] = np.select(conditions, choices)\n",
    "games_mechanics['avg_rating_range'].value_counts()\n",
    "\n",
    "cdf = games_mechanics.groupby(['mechanic_c','avg_rating_range'])['avg_rating'].count().unstack()\n",
    "cdf['NPS'] = cdf['promoters']/246 - cdf['detractors']/4657\n",
    "print cdf.sort_values('NPS',ascending = False)[:10]\n",
    "cdf.to_csv(\"mechanic_game.csv\")\n",
    "\n",
    "games_mechanics= DataFrame(df['mechanic_c'].str.split(',').tolist(),index=df['geek_rating'])\n",
    "games_mechanics = games_mechanics.reset_index()[[0, 'geek_rating']]\n",
    "games_mechanics.columns = ['mechanic_c', 'geek_rating']\n",
    "\n",
    "conditions = [\n",
    "    (games_mechanics['geek_rating'] <= df['geek_rating'].quantile(0.95)),\n",
    "    (games_mechanics['geek_rating'] > df['geek_rating'].quantile(0.95))]\n",
    "choices = ['detractors', 'promoters']\n",
    "games_mechanics['geek_rating_range'] = np.select(conditions, choices)\n",
    "games_mechanics['geek_rating_range'].value_counts()\n",
    "cdf = games_mechanics.groupby(['mechanic_c','geek_rating_range'])['geek_rating'].count().unstack()\n",
    "cdf['NPS'] = cdf['promoters']/246 - cdf['detractors']/4657\n",
    "cdf.sort_values('NPS',ascending = False)[:10]\n"
   ]
  },
  {
   "cell_type": "markdown",
   "metadata": {},
   "source": [
    "### Category of Game"
   ]
  },
  {
   "cell_type": "code",
   "execution_count": 16,
   "metadata": {},
   "outputs": [
    {
     "name": "stdout",
     "output_type": "stream",
     "text": [
      "avg_rating_range            detractors  promoters       NPS\n",
      "category_c                                                 \n",
      "Wargame                          188.0       39.0  0.118167\n",
      "Adventure                        258.0       27.0  0.054356\n",
      "Modern Warfare                    40.0       13.0  0.044256\n",
      "Aviation  Flight                  82.0       12.0  0.031173\n",
      "Economic                         299.0       23.0  0.029292\n",
      "Napoleonic                        37.0        7.0  0.020510\n",
      "Fantasy                          137.0       12.0  0.019362\n",
      "Civilization                      62.0        7.0  0.015142\n",
      "American Civil War                50.0        6.0  0.013654\n",
      "American Indian Wars               1.0        3.0  0.011980\n",
      "Civil War                         12.0        3.0  0.009618\n",
      "Environmental                      9.0        2.0  0.006198\n",
      "Sports                            13.0        2.0  0.005339\n",
      "Negotiation                       15.0        2.0  0.004909\n",
      "Miniatures                        38.0        3.0  0.004035\n",
      "Game System                        1.0        1.0  0.003850\n",
      "Korean War                         2.0        1.0  0.003636\n",
      "Vietnam War                        2.0        1.0  0.003636\n",
      "American Revolutionary War         3.0        1.0  0.003421\n",
      "Medical                            4.0        1.0  0.003206\n"
     ]
    },
    {
     "data": {
      "text/html": [
       "<div>\n",
       "<style scoped>\n",
       "    .dataframe tbody tr th:only-of-type {\n",
       "        vertical-align: middle;\n",
       "    }\n",
       "\n",
       "    .dataframe tbody tr th {\n",
       "        vertical-align: top;\n",
       "    }\n",
       "\n",
       "    .dataframe thead th {\n",
       "        text-align: right;\n",
       "    }\n",
       "</style>\n",
       "<table border=\"1\" class=\"dataframe\">\n",
       "  <thead>\n",
       "    <tr style=\"text-align: right;\">\n",
       "      <th>geek_rating_range</th>\n",
       "      <th>detractors</th>\n",
       "      <th>promoters</th>\n",
       "      <th>NPS</th>\n",
       "    </tr>\n",
       "    <tr>\n",
       "      <th>category_c</th>\n",
       "      <th></th>\n",
       "      <th></th>\n",
       "      <th></th>\n",
       "    </tr>\n",
       "  </thead>\n",
       "  <tbody>\n",
       "    <tr>\n",
       "      <th>Economic</th>\n",
       "      <td>285.0</td>\n",
       "      <td>37.0</td>\n",
       "      <td>0.089208</td>\n",
       "    </tr>\n",
       "    <tr>\n",
       "      <th>Adventure</th>\n",
       "      <td>258.0</td>\n",
       "      <td>27.0</td>\n",
       "      <td>0.054356</td>\n",
       "    </tr>\n",
       "    <tr>\n",
       "      <th>City Building</th>\n",
       "      <td>127.0</td>\n",
       "      <td>16.0</td>\n",
       "      <td>0.037770</td>\n",
       "    </tr>\n",
       "    <tr>\n",
       "      <th>Civilization</th>\n",
       "      <td>59.0</td>\n",
       "      <td>10.0</td>\n",
       "      <td>0.027981</td>\n",
       "    </tr>\n",
       "    <tr>\n",
       "      <th>Ancient</th>\n",
       "      <td>212.0</td>\n",
       "      <td>16.0</td>\n",
       "      <td>0.019518</td>\n",
       "    </tr>\n",
       "    <tr>\n",
       "      <th>Dice</th>\n",
       "      <td>153.0</td>\n",
       "      <td>12.0</td>\n",
       "      <td>0.015927</td>\n",
       "    </tr>\n",
       "    <tr>\n",
       "      <th>Trains</th>\n",
       "      <td>26.0</td>\n",
       "      <td>5.0</td>\n",
       "      <td>0.014742</td>\n",
       "    </tr>\n",
       "    <tr>\n",
       "      <th>Age of Reason</th>\n",
       "      <td>45.0</td>\n",
       "      <td>6.0</td>\n",
       "      <td>0.014727</td>\n",
       "    </tr>\n",
       "    <tr>\n",
       "      <th>Renaissance</th>\n",
       "      <td>12.0</td>\n",
       "      <td>4.0</td>\n",
       "      <td>0.013683</td>\n",
       "    </tr>\n",
       "    <tr>\n",
       "      <th>Deduction</th>\n",
       "      <td>71.0</td>\n",
       "      <td>6.0</td>\n",
       "      <td>0.009144</td>\n",
       "    </tr>\n",
       "    <tr>\n",
       "      <th>Medical</th>\n",
       "      <td>3.0</td>\n",
       "      <td>2.0</td>\n",
       "      <td>0.007486</td>\n",
       "    </tr>\n",
       "    <tr>\n",
       "      <th>Environmental</th>\n",
       "      <td>9.0</td>\n",
       "      <td>2.0</td>\n",
       "      <td>0.006198</td>\n",
       "    </tr>\n",
       "    <tr>\n",
       "      <th>Arabian</th>\n",
       "      <td>21.0</td>\n",
       "      <td>2.0</td>\n",
       "      <td>0.003621</td>\n",
       "    </tr>\n",
       "    <tr>\n",
       "      <th>Bluffing</th>\n",
       "      <td>250.0</td>\n",
       "      <td>14.0</td>\n",
       "      <td>0.003228</td>\n",
       "    </tr>\n",
       "    <tr>\n",
       "      <th>PostNapoleonic</th>\n",
       "      <td>5.0</td>\n",
       "      <td>1.0</td>\n",
       "      <td>0.002991</td>\n",
       "    </tr>\n",
       "    <tr>\n",
       "      <th>Humor</th>\n",
       "      <td>27.0</td>\n",
       "      <td>2.0</td>\n",
       "      <td>0.002332</td>\n",
       "    </tr>\n",
       "    <tr>\n",
       "      <th>Fantasy</th>\n",
       "      <td>141.0</td>\n",
       "      <td>8.0</td>\n",
       "      <td>0.002243</td>\n",
       "    </tr>\n",
       "    <tr>\n",
       "      <th>Electronic</th>\n",
       "      <td>9.0</td>\n",
       "      <td>1.0</td>\n",
       "      <td>0.002132</td>\n",
       "    </tr>\n",
       "    <tr>\n",
       "      <th>Political</th>\n",
       "      <td>11.0</td>\n",
       "      <td>1.0</td>\n",
       "      <td>0.001703</td>\n",
       "    </tr>\n",
       "    <tr>\n",
       "      <th>Farming</th>\n",
       "      <td>12.0</td>\n",
       "      <td>1.0</td>\n",
       "      <td>0.001488</td>\n",
       "    </tr>\n",
       "  </tbody>\n",
       "</table>\n",
       "</div>"
      ],
      "text/plain": [
       "geek_rating_range  detractors  promoters       NPS\n",
       "category_c                                        \n",
       "Economic                285.0       37.0  0.089208\n",
       "Adventure               258.0       27.0  0.054356\n",
       "City Building           127.0       16.0  0.037770\n",
       "Civilization             59.0       10.0  0.027981\n",
       "Ancient                 212.0       16.0  0.019518\n",
       "Dice                    153.0       12.0  0.015927\n",
       "Trains                   26.0        5.0  0.014742\n",
       "Age of Reason            45.0        6.0  0.014727\n",
       "Renaissance              12.0        4.0  0.013683\n",
       "Deduction                71.0        6.0  0.009144\n",
       "Medical                   3.0        2.0  0.007486\n",
       "Environmental             9.0        2.0  0.006198\n",
       "Arabian                  21.0        2.0  0.003621\n",
       "Bluffing                250.0       14.0  0.003228\n",
       "PostNapoleonic            5.0        1.0  0.002991\n",
       "Humor                    27.0        2.0  0.002332\n",
       "Fantasy                 141.0        8.0  0.002243\n",
       "Electronic                9.0        1.0  0.002132\n",
       "Political                11.0        1.0  0.001703\n",
       "Farming                  12.0        1.0  0.001488"
      ]
     },
     "execution_count": 16,
     "metadata": {},
     "output_type": "execute_result"
    }
   ],
   "source": [
    "#Splitting string variables\n",
    "#mechanic, category and designer features have text which is comma separated. Breaking them up into different features\n",
    "df['category_c'] = df['category'].apply(lambda x: re.sub(r'[^\\,\\s\\w]','',x))\n",
    "games_mechanics= DataFrame(df['category_c'].str.split(',').tolist(),index=df['avg_rating'])\n",
    "games_mechanics = games_mechanics.reset_index()[[0, 'avg_rating']]\n",
    "games_mechanics.columns = ['category_c', 'avg_rating']\n",
    "\n",
    "conditions = [\n",
    "    (games_mechanics['avg_rating'] <= df['avg_rating'].quantile(0.95)),\n",
    "    (games_mechanics['avg_rating'] > df['avg_rating'].quantile(0.95))]\n",
    "choices = ['detractors', 'promoters']\n",
    "games_mechanics['avg_rating_range'] = np.select(conditions, choices)\n",
    "games_mechanics['avg_rating_range'].value_counts()\n",
    "cdf = games_mechanics.groupby(['category_c','avg_rating_range'])['avg_rating'].count().unstack()\n",
    "cdf['NPS'] = cdf['promoters']/246 - cdf['detractors']/4657\n",
    "print cdf.sort_values('NPS',ascending = False)[:20]\n",
    "top_20_categories = cdf.sort_values('NPS',ascending = False)[:20].index\n",
    "cdf.to_csv(\"category_game.csv\")\n",
    "games_mechanics= DataFrame(df['category_c'].str.split(',').tolist(),index=df['geek_rating'])\n",
    "games_mechanics = games_mechanics.reset_index()[[0, 'geek_rating']]\n",
    "games_mechanics.columns = ['category_c', 'geek_rating']\n",
    "\n",
    "conditions = [\n",
    "    (games_mechanics['geek_rating'] <= df['geek_rating'].quantile(0.95)),\n",
    "    (games_mechanics['geek_rating'] > df['geek_rating'].quantile(0.95))]\n",
    "choices = ['detractors', 'promoters']\n",
    "games_mechanics['geek_rating_range'] = np.select(conditions, choices)\n",
    "games_mechanics['geek_rating_range'].value_counts()\n",
    "cdf = games_mechanics.groupby(['category_c','geek_rating_range'])['geek_rating'].count().unstack()\n",
    "cdf['NPS'] = cdf['promoters']/246 - cdf['detractors']/4657\n",
    "cdf.sort_values('NPS',ascending = False)[:20]\n"
   ]
  },
  {
   "cell_type": "markdown",
   "metadata": {},
   "source": [
    "### Designer of Game"
   ]
  },
  {
   "cell_type": "code",
   "execution_count": 17,
   "metadata": {},
   "outputs": [
    {
     "name": "stdout",
     "output_type": "stream",
     "text": [
      "avg_rating_range    detractors  promoters       NPS\n",
      "designer_c                                         \n",
      "Dean Essig                24.0       10.0  0.035497\n",
      "John H Butterfield         4.0        5.0  0.019466\n",
      "Vlaada Chvtil             15.0        5.0  0.017104\n",
      "Adam Carlson               1.0        4.0  0.016045\n",
      "Gene Billingsley           1.0        4.0  0.016045\n",
      "Uwe Rosenberg             27.0        5.0  0.014527\n",
      "Ed Beach                   1.0        3.0  0.011980\n",
      "Adam Starkweather          2.0        3.0  0.011766\n",
      "Ken Dunn                   2.0        3.0  0.011766\n",
      "Vital Lacerda              3.0        3.0  0.011551\n",
      "Mark Herman                9.0        3.0  0.010263\n",
      "D Brad Talton             11.0        3.0  0.009833\n",
      "Jens Drgemller             1.0        2.0  0.007915\n",
      "Richard Sivl               1.0        2.0  0.007915\n",
      "Uwe Eickert                2.0        2.0  0.007701\n",
      "Jamey Stegmaier            2.0        2.0  0.007701\n",
      "Hermann Luttmann           2.0        2.0  0.007701\n",
      "Simone Luciani             3.0        2.0  0.007486\n",
      "Volko Ruhnke               3.0        2.0  0.007486\n",
      "Jonathan Gilmour           3.0        2.0  0.007486\n"
     ]
    },
    {
     "data": {
      "text/html": [
       "<div>\n",
       "<style scoped>\n",
       "    .dataframe tbody tr th:only-of-type {\n",
       "        vertical-align: middle;\n",
       "    }\n",
       "\n",
       "    .dataframe tbody tr th {\n",
       "        vertical-align: top;\n",
       "    }\n",
       "\n",
       "    .dataframe thead th {\n",
       "        text-align: right;\n",
       "    }\n",
       "</style>\n",
       "<table border=\"1\" class=\"dataframe\">\n",
       "  <thead>\n",
       "    <tr style=\"text-align: right;\">\n",
       "      <th>geek_rating_range</th>\n",
       "      <th>detractors</th>\n",
       "      <th>promoters</th>\n",
       "      <th>NPS</th>\n",
       "    </tr>\n",
       "    <tr>\n",
       "      <th>designer_c</th>\n",
       "      <th></th>\n",
       "      <th></th>\n",
       "      <th></th>\n",
       "    </tr>\n",
       "  </thead>\n",
       "  <tbody>\n",
       "    <tr>\n",
       "      <th>Uwe Rosenberg</th>\n",
       "      <td>21.0</td>\n",
       "      <td>11.0</td>\n",
       "      <td>0.040206</td>\n",
       "    </tr>\n",
       "    <tr>\n",
       "      <th>Vlaada Chvtil</th>\n",
       "      <td>10.0</td>\n",
       "      <td>10.0</td>\n",
       "      <td>0.038503</td>\n",
       "    </tr>\n",
       "    <tr>\n",
       "      <th>Stefan Feld</th>\n",
       "      <td>18.0</td>\n",
       "      <td>7.0</td>\n",
       "      <td>0.024590</td>\n",
       "    </tr>\n",
       "    <tr>\n",
       "      <th>Vital Lacerda</th>\n",
       "      <td>2.0</td>\n",
       "      <td>4.0</td>\n",
       "      <td>0.015831</td>\n",
       "    </tr>\n",
       "    <tr>\n",
       "      <th>Mac Gerdts</th>\n",
       "      <td>6.0</td>\n",
       "      <td>4.0</td>\n",
       "      <td>0.014972</td>\n",
       "    </tr>\n",
       "    <tr>\n",
       "      <th>Corey Konieczka</th>\n",
       "      <td>7.0</td>\n",
       "      <td>4.0</td>\n",
       "      <td>0.014757</td>\n",
       "    </tr>\n",
       "    <tr>\n",
       "      <th>Richard Borg</th>\n",
       "      <td>13.0</td>\n",
       "      <td>4.0</td>\n",
       "      <td>0.013469</td>\n",
       "    </tr>\n",
       "    <tr>\n",
       "      <th>Antoine Bauza</th>\n",
       "      <td>15.0</td>\n",
       "      <td>4.0</td>\n",
       "      <td>0.013039</td>\n",
       "    </tr>\n",
       "    <tr>\n",
       "      <th>Jamey Stegmaier</th>\n",
       "      <td>1.0</td>\n",
       "      <td>3.0</td>\n",
       "      <td>0.011980</td>\n",
       "    </tr>\n",
       "    <tr>\n",
       "      <th>Robert Dougherty</th>\n",
       "      <td>5.0</td>\n",
       "      <td>3.0</td>\n",
       "      <td>0.011121</td>\n",
       "    </tr>\n",
       "    <tr>\n",
       "      <th>Jeroen Doumen</th>\n",
       "      <td>8.0</td>\n",
       "      <td>3.0</td>\n",
       "      <td>0.010477</td>\n",
       "    </tr>\n",
       "    <tr>\n",
       "      <th>Richard Garfield</th>\n",
       "      <td>15.0</td>\n",
       "      <td>3.0</td>\n",
       "      <td>0.008974</td>\n",
       "    </tr>\n",
       "    <tr>\n",
       "      <th>Rob Daviau</th>\n",
       "      <td>15.0</td>\n",
       "      <td>3.0</td>\n",
       "      <td>0.008974</td>\n",
       "    </tr>\n",
       "    <tr>\n",
       "      <th>Alan R Moon</th>\n",
       "      <td>34.0</td>\n",
       "      <td>4.0</td>\n",
       "      <td>0.008959</td>\n",
       "    </tr>\n",
       "    <tr>\n",
       "      <th>Bruno Cathala</th>\n",
       "      <td>34.0</td>\n",
       "      <td>4.0</td>\n",
       "      <td>0.008959</td>\n",
       "    </tr>\n",
       "    <tr>\n",
       "      <th>JeanLouis Roubira</th>\n",
       "      <td>1.0</td>\n",
       "      <td>2.0</td>\n",
       "      <td>0.007915</td>\n",
       "    </tr>\n",
       "    <tr>\n",
       "      <th>Jens Drgemller</th>\n",
       "      <td>1.0</td>\n",
       "      <td>2.0</td>\n",
       "      <td>0.007915</td>\n",
       "    </tr>\n",
       "    <tr>\n",
       "      <th>Bernd Brunnhofer</th>\n",
       "      <td>2.0</td>\n",
       "      <td>2.0</td>\n",
       "      <td>0.007701</td>\n",
       "    </tr>\n",
       "    <tr>\n",
       "      <th>Jonathan Gilmour</th>\n",
       "      <td>3.0</td>\n",
       "      <td>2.0</td>\n",
       "      <td>0.007486</td>\n",
       "    </tr>\n",
       "    <tr>\n",
       "      <th>Chad Jensen</th>\n",
       "      <td>3.0</td>\n",
       "      <td>2.0</td>\n",
       "      <td>0.007486</td>\n",
       "    </tr>\n",
       "  </tbody>\n",
       "</table>\n",
       "</div>"
      ],
      "text/plain": [
       "geek_rating_range  detractors  promoters       NPS\n",
       "designer_c                                        \n",
       "Uwe Rosenberg            21.0       11.0  0.040206\n",
       "Vlaada Chvtil            10.0       10.0  0.038503\n",
       "Stefan Feld              18.0        7.0  0.024590\n",
       "Vital Lacerda             2.0        4.0  0.015831\n",
       "Mac Gerdts                6.0        4.0  0.014972\n",
       "Corey Konieczka           7.0        4.0  0.014757\n",
       "Richard Borg             13.0        4.0  0.013469\n",
       "Antoine Bauza            15.0        4.0  0.013039\n",
       "Jamey Stegmaier           1.0        3.0  0.011980\n",
       "Robert Dougherty          5.0        3.0  0.011121\n",
       "Jeroen Doumen             8.0        3.0  0.010477\n",
       "Richard Garfield         15.0        3.0  0.008974\n",
       "Rob Daviau               15.0        3.0  0.008974\n",
       "Alan R Moon              34.0        4.0  0.008959\n",
       "Bruno Cathala            34.0        4.0  0.008959\n",
       "JeanLouis Roubira         1.0        2.0  0.007915\n",
       "Jens Drgemller            1.0        2.0  0.007915\n",
       "Bernd Brunnhofer          2.0        2.0  0.007701\n",
       "Jonathan Gilmour          3.0        2.0  0.007486\n",
       "Chad Jensen               3.0        2.0  0.007486"
      ]
     },
     "execution_count": 17,
     "metadata": {},
     "output_type": "execute_result"
    }
   ],
   "source": [
    "#designer\n",
    "#Splitting string variables\n",
    "df['designer_c'] = df['designer'].apply(lambda x: re.sub(r'[^\\,\\s\\w]','',x))\n",
    "games_mechanics= DataFrame(df['designer_c'].str.split(',').tolist(),index=df['avg_rating'])\n",
    "games_mechanics = games_mechanics.reset_index()[[0, 'avg_rating']]\n",
    "games_mechanics.columns = ['designer_c', 'avg_rating']\n",
    "\n",
    "#creating promoter and detractor buckets for avg_rating\n",
    "conditions = [\n",
    "    (games_mechanics['avg_rating'] <= df['avg_rating'].quantile(0.95)),\n",
    "    (games_mechanics['avg_rating'] > df['avg_rating'].quantile(0.95))]\n",
    "choices = ['detractors', 'promoters']\n",
    "games_mechanics['avg_rating_range'] = np.select(conditions, choices)\n",
    "cdf = games_mechanics.groupby(['designer_c','avg_rating_range'])['avg_rating'].count().unstack()\n",
    "cdf['NPS'] = cdf['promoters']/246 - cdf['detractors']/4657\n",
    "print cdf.sort_values('NPS',ascending = False)[:20]\n",
    "top_20_designers = cdf.sort_values('NPS',ascending = False)[:20].index\n",
    "\n",
    "#Splitting string variables\n",
    "games_mechanics= DataFrame(df['designer_c'].str.split(',').tolist(),index=df['geek_rating'])\n",
    "games_mechanics = games_mechanics.reset_index()[[0, 'geek_rating']]\n",
    "games_mechanics.columns = ['designer_c', 'geek_rating']\n",
    "\n",
    "#creating promoter and detractor buckets for geek_rating\n",
    "conditions = [\n",
    "    (games_mechanics['geek_rating'] <= df['geek_rating'].quantile(0.95)),\n",
    "    (games_mechanics['geek_rating'] > df['geek_rating'].quantile(0.95))]\n",
    "choices = ['detractors', 'promoters']\n",
    "games_mechanics['geek_rating_range'] = np.select(conditions, choices)\n",
    "cdf = games_mechanics.groupby(['designer_c','geek_rating_range'])['geek_rating'].count().unstack()\n",
    "cdf['NPS'] = cdf['promoters']/246 - cdf['detractors']/4657\n",
    "cdf.sort_values('NPS',ascending = False)[:20]\n"
   ]
  },
  {
   "cell_type": "markdown",
   "metadata": {},
   "source": [
    "## Voter's ownership"
   ]
  },
  {
   "cell_type": "code",
   "execution_count": null,
   "metadata": {},
   "outputs": [],
   "source": [
    "#ownership\n",
    "#the more the number of people owning it, the critical the game gets\n",
    "df['owned'].hist()\n",
    "xlabel(\"Number of voters who own the board game\")\n",
    "\n",
    "print df['owned'].quantile([0,0.25,0.5,0.75,0.95,0.99,1])\n",
    "\n",
    "df['owned_bucket'] = pd.qcut(df['owned'],3)\n",
    "cdf = pd.crosstab(df['owned_bucket'],df['avg_rating_range']).apply(lambda c: (c/c.sum(axis=0))*100, axis=0)\n",
    "cdf['NPS'] = cdf['promoters'] - cdf['detractors']\n",
    "print cdf.sort_values('owned_bucket',ascending = True)\n",
    "\n",
    "cdf = pd.crosstab(df['owned_bucket'],df['geek_rating_range']).apply(lambda c: (c/c.sum(axis=0))*100, axis=0)\n",
    "cdf['NPS'] = cdf['promoters'] - cdf['detractors']\n",
    "cdf.sort_values('owned_bucket',ascending = True)"
   ]
  },
  {
   "cell_type": "markdown",
   "metadata": {},
   "source": [
    "## Number of votes"
   ]
  },
  {
   "cell_type": "code",
   "execution_count": null,
   "metadata": {},
   "outputs": [],
   "source": [
    "#num_votes\n",
    "#the more the number of votes, higher the number of promoters for it\n",
    "df['num_votes'].hist()\n",
    "xlabel(\"Number of voters\")\n",
    "\n",
    "df['num_votes_bucket'] = pd.qcut(df['num_votes'],10)\n",
    "cdf = pd.crosstab(df['num_votes_bucket'],df['avg_rating_range']).apply(lambda c: (c/c.sum(axis=0))*100, axis=0)\n",
    "cdf['NPS'] = cdf['promoters'] - cdf['detractors']\n",
    "print cdf.sort_values('num_votes_bucket',ascending = True)\n",
    "#classics and younger games are loved by game lovers\n",
    "\n",
    "cdf = pd.crosstab(df['num_votes_bucket'],df['geek_rating_range']).apply(lambda c: (c/c.sum(axis=0))*100, axis=0)\n",
    "cdf['NPS'] = cdf['promoters'] - cdf['detractors']\n",
    "cdf.sort_values('num_votes_bucket',ascending = True)"
   ]
  },
  {
   "cell_type": "markdown",
   "metadata": {},
   "source": [
    "### Penetration ratio"
   ]
  },
  {
   "cell_type": "code",
   "execution_count": null,
   "metadata": {},
   "outputs": [],
   "source": [
    "import statsmodels.api as sm\n",
    "from patsy import dmatrices\n",
    "\n",
    "y, X = dmatrices('owned ~ num_votes', df, return_type='dataframe')\n",
    "result = sm.OLS(y, X).fit()\n",
    "slope = result.params['num_votes']\n",
    "intercept = result.params['Intercept']\n",
    "predicted = df['num_votes'] * slope + intercept\n",
    "regression_predictions = Series(predicted.values,\n",
    "                                index=df['num_votes'])\n",
    "\n",
    "#owned is if user owns or not\n",
    "plot(df['num_votes'],df['owned'],marker='o', color='red', linestyle='None')\n",
    "regression_predictions.plot(label='Regression', linewidth=2)\n",
    "legend(numpoints=1, loc='best')\n",
    "xlabel('number of votes')\n",
    "ylabel('Owned')\n",
    "show()"
   ]
  },
  {
   "cell_type": "code",
   "execution_count": null,
   "metadata": {},
   "outputs": [],
   "source": [
    "#Penetration ratio\n",
    "# Higher the number of voters owning the game, better rating\n",
    "df['penetration_ratio'] = df['owned'] / df['num_votes']\n",
    "df['penetration_ratio'].hist()\n",
    "xlabel(\"Penetration ratio\")\n",
    "print df['penetration_ratio'].quantile([0,0.25,0.5,0.75,0.95,0.99,1])\n",
    "\n",
    "df['pen_ratio_bucket'] = pd.qcut(df['penetration_ratio'],10)\n",
    "cdf = pd.crosstab(df['pen_ratio_bucket'],df['avg_rating_range']).apply(lambda c: (c/c.sum(axis=0))*100, axis=0)\n",
    "cdf['NPS'] = cdf['promoters'] - cdf['detractors']\n",
    "print cdf.sort_values('pen_ratio_bucket',ascending = True)\n",
    "#classics and younger games are loved by game lovers\n",
    "\n",
    "cdf = pd.crosstab(df['pen_ratio_bucket'],df['geek_rating_range']).apply(lambda c: (c/c.sum(axis=0))*100, axis=0)\n",
    "cdf['NPS'] = cdf['promoters'] - cdf['detractors']\n",
    "cdf.sort_values('pen_ratio_bucket',ascending = True)"
   ]
  },
  {
   "cell_type": "markdown",
   "metadata": {},
   "source": [
    "### Age of the game"
   ]
  },
  {
   "cell_type": "code",
   "execution_count": null,
   "metadata": {},
   "outputs": [],
   "source": [
    "df['age_game'] = 2018 - df['year']\n",
    "print df['age_game'].quantile([0,0.25,0.5,0.75,0.95,0.99,1])\n",
    "dfx = df[df['year']>0]\n",
    "\n",
    "df['age_game_bucket'] = pd.qcut(df['age_game'],10)\n",
    "cdf = df.groupby(['age_game_bucket','avg_rating_range'])['game_id'].count().unstack()\n",
    "cdf['NPS'] = cdf['promoters']/246 - cdf['detractors']/4657\n",
    "cdf.sort_values('age_game_bucket',ascending = True)\n"
   ]
  },
  {
   "cell_type": "markdown",
   "metadata": {},
   "source": [
    "## Regression"
   ]
  },
  {
   "cell_type": "markdown",
   "metadata": {},
   "source": [
    "Checking importance of variables:\n",
    "<br> 1. num_players\n",
    "<br> 2. avg_time\n",
    "<br> 3. age (min age for playing the game)\n",
    "<br> 4. weight (complexity of the game)\n",
    "<br> 5. penetration_ratio (% of voters who own the game)\n",
    "<br> 6. age_game (age of the game)"
   ]
  },
  {
   "cell_type": "code",
   "execution_count": null,
   "metadata": {},
   "outputs": [],
   "source": [
    "import statsmodels.api as sm\n",
    "from patsy import dmatrices"
   ]
  },
  {
   "cell_type": "code",
   "execution_count": null,
   "metadata": {},
   "outputs": [],
   "source": [
    "y, X = dmatrices('avg_rating ~ num_players', data=df, return_type='dataframe')\n",
    "model = sm.OLS(y, X) \n",
    "result = model.fit()\n",
    "print 'Params'\n",
    "print result.params\n",
    "print\n",
    "print 'R-squared =', (result.rsquared) * 100, \"%\"\n",
    "print\n",
    "print 'p-values'\n",
    "print result.pvalues"
   ]
  },
  {
   "cell_type": "code",
   "execution_count": null,
   "metadata": {},
   "outputs": [],
   "source": [
    "y, X = dmatrices('avg_rating ~ avg_time', data=df, return_type='dataframe')\n",
    "model = sm.OLS(y, X) \n",
    "result = model.fit()\n",
    "print 'Params'\n",
    "print result.params\n",
    "print\n",
    "print 'R-squared =', (result.rsquared) * 100, \"%\"\n",
    "print\n",
    "print 'p-values'\n",
    "print result.pvalues"
   ]
  },
  {
   "cell_type": "code",
   "execution_count": null,
   "metadata": {},
   "outputs": [],
   "source": [
    "y, X = dmatrices('avg_rating ~ age', data=df, return_type='dataframe')\n",
    "model = sm.OLS(y, X) \n",
    "result = model.fit()\n",
    "print 'Params'\n",
    "print result.params\n",
    "print\n",
    "print 'R-squared =', (result.rsquared) * 100, \"%\"\n",
    "print\n",
    "print 'p-values'\n",
    "print result.pvalues"
   ]
  },
  {
   "cell_type": "code",
   "execution_count": null,
   "metadata": {},
   "outputs": [],
   "source": [
    "y, X = dmatrices('avg_rating ~ weight', data=df, return_type='dataframe')\n",
    "model = sm.OLS(y, X) \n",
    "result = model.fit()\n",
    "print 'Params'\n",
    "print result.params\n",
    "print\n",
    "print 'R-squared =', (result.rsquared) * 100, \"%\"\n",
    "print\n",
    "print 'p-values'\n",
    "print result.pvalues"
   ]
  },
  {
   "cell_type": "code",
   "execution_count": null,
   "metadata": {},
   "outputs": [],
   "source": [
    "y, X = dmatrices('avg_rating ~ penetration_ratio', data=df, return_type='dataframe')\n",
    "model = sm.OLS(y, X) \n",
    "result = model.fit()\n",
    "print 'Params'\n",
    "print result.params\n",
    "print\n",
    "print 'R-squared =', (result.rsquared) * 100, \"%\"\n",
    "print\n",
    "print 'p-values'\n",
    "print result.pvalues"
   ]
  },
  {
   "cell_type": "code",
   "execution_count": null,
   "metadata": {},
   "outputs": [],
   "source": [
    "y, X = dmatrices('avg_rating ~ age_game', data=df, return_type='dataframe')\n",
    "model = sm.OLS(y, X) \n",
    "result = model.fit()\n",
    "print 'Params'\n",
    "print result.params\n",
    "print\n",
    "print 'R-squared =', (result.rsquared) * 100, \"%\"\n",
    "print\n",
    "print 'p-values'\n",
    "print result.pvalues"
   ]
  },
  {
   "cell_type": "code",
   "execution_count": 18,
   "metadata": {},
   "outputs": [
    {
     "data": {
      "text/plain": [
       "0    4687\n",
       "1     216\n",
       "Name: top_designer, dtype: int64"
      ]
     },
     "execution_count": 18,
     "metadata": {},
     "output_type": "execute_result"
    }
   ],
   "source": [
    "#category\n",
    "def ret_cat(s):\n",
    "    x = s.split(\",\")\n",
    "    for i in x:\n",
    "        if i.lstrip() in top_20_categories.tolist():\n",
    "            return (1)\n",
    "    return (0)\n",
    "df['top_category'] = df['category_c'].map(ret_cat)\n",
    "#df['top_category'].value_counts()\n",
    "\n",
    "def ret_des(s):\n",
    "    x = s.split(\",\")\n",
    "    for i in x:\n",
    "        if i.lstrip() in top_20_designers.tolist():\n",
    "            return (1)\n",
    "    return (0)\n",
    "df['top_designer'] = df['designer_c'].map(ret_des)\n",
    "df['top_designer'].value_counts()"
   ]
  },
  {
   "cell_type": "code",
   "execution_count": null,
   "metadata": {},
   "outputs": [],
   "source": [
    "y, X = dmatrices('avg_rating ~ top_designer', data=df, return_type='dataframe')\n",
    "model = sm.OLS(y, X) \n",
    "result = model.fit()\n",
    "print 'Params'\n",
    "print result.params\n",
    "print\n",
    "print 'R-squared =', (result.rsquared) * 100, \"%\"\n",
    "print\n",
    "print 'p-values'\n",
    "print result.pvalues"
   ]
  },
  {
   "cell_type": "code",
   "execution_count": null,
   "metadata": {},
   "outputs": [],
   "source": [
    "y, X = dmatrices('avg_rating ~ top_category', data=df, return_type='dataframe')\n",
    "model = sm.OLS(y, X) \n",
    "result = model.fit()\n",
    "print 'Params'\n",
    "print result.params\n",
    "print\n",
    "print 'R-squared =', (result.rsquared) * 100, \"%\"\n",
    "print\n",
    "print 'p-values'\n",
    "print result.pvalues"
   ]
  },
  {
   "cell_type": "code",
   "execution_count": null,
   "metadata": {},
   "outputs": [],
   "source": [
    "y, X = dmatrices('avg_rating ~ top_category + top_designer + num_players + weight + avg_time_bucket + age', data=df, return_type='dataframe')\n",
    "model = sm.OLS(y, X) \n",
    "result = model.fit()\n",
    "print 'Params'\n",
    "print result.params\n",
    "print\n",
    "print 'R-squared =', (result.rsquared) * 100, \"%\"\n",
    "print\n",
    "print 'p-values'\n",
    "print result.pvalues"
   ]
  },
  {
   "cell_type": "markdown",
   "metadata": {},
   "source": [
    "### Correlation plot"
   ]
  },
  {
   "cell_type": "code",
   "execution_count": null,
   "metadata": {},
   "outputs": [],
   "source": [
    "def plot_corr(df,size=10):\n",
    "    '''Function plots a graphical correlation matrix for each pair of columns in the dataframe.\n",
    "\n",
    "    Input:\n",
    "        df: pandas DataFrame\n",
    "        size: vertical and horizontal size of the plot'''\n",
    "\n",
    "    corr = df.corr()\n",
    "    fig, ax = plt.subplots(figsize=(size, size))\n",
    "    ax.matshow(corr)\n",
    "    plt.xticks(range(len(corr.columns)), corr.columns);\n",
    "    plt.yticks(range(len(corr.columns)), corr.columns);\n",
    "\n",
    "plot_corr(df)\n",
    "df.corr().to_csv(\"correlation_plot.csv\")"
   ]
  },
  {
   "cell_type": "markdown",
   "metadata": {},
   "source": [
    "## Trees"
   ]
  },
  {
   "cell_type": "markdown",
   "metadata": {},
   "source": [
    "Create popular and not popular based on 95th percentile of avg_rating\n",
    "<br> Going to create dummy for top categories, mechanics and designer\n",
    "<br> Other vars: avg_time, age, num_votes, min players, max players, pen ratio"
   ]
  },
  {
   "cell_type": "code",
   "execution_count": 19,
   "metadata": {},
   "outputs": [
    {
     "name": "stdout",
     "output_type": "stream",
     "text": [
      "Populating the interactive namespace from numpy and matplotlib\n"
     ]
    }
   ],
   "source": [
    "from pandas import Series, DataFrame\n",
    "import pandas as pd\n",
    "from patsy import dmatrices\n",
    "from sklearn.model_selection import train_test_split\n",
    "import warnings\n",
    "%pylab inline\n",
    "warnings.filterwarnings('ignore')"
   ]
  },
  {
   "cell_type": "code",
   "execution_count": 20,
   "metadata": {},
   "outputs": [
    {
     "data": {
      "text/plain": [
       "array(['rank', 'bgg_url', 'game_id', 'names', 'min_players',\n",
       "       'max_players', 'avg_time', 'min_time', 'max_time', 'year',\n",
       "       'avg_rating', 'geek_rating', 'num_votes', 'image_url', 'age',\n",
       "       'mechanic', 'owned', 'category', 'designer', 'weight',\n",
       "       'avg_rating_range', 'geek_rating_range', 'num_players', 'popular',\n",
       "       'weight_bucket', 'mechanic_c', 'category_c', 'designer_c',\n",
       "       'top_category', 'top_designer'], dtype=object)"
      ]
     },
     "execution_count": 20,
     "metadata": {},
     "output_type": "execute_result"
    }
   ],
   "source": [
    "df.columns.values"
   ]
  },
  {
   "cell_type": "code",
   "execution_count": 21,
   "metadata": {},
   "outputs": [
    {
     "name": "stdout",
     "output_type": "stream",
     "text": [
      "['rank' 'bgg_url' 'game_id' 'names' 'min_players' 'max_players' 'avg_time'\n",
      " 'min_time' 'max_time' 'year' 'avg_rating' 'geek_rating' 'num_votes'\n",
      " 'image_url' 'age' 'mechanic' 'owned' 'category' 'designer' 'weight'\n",
      " 'avg_rating_range' 'geek_rating_range' 'num_players' 'popular'\n",
      " 'weight_bucket' 'mechanic_c' 'category_c' 'designer_c' 'top_category'\n",
      " 'top_designer']\n"
     ]
    },
    {
     "data": {
      "text/plain": [
       "0    3677\n",
       "1    1226\n",
       "Name: popular, dtype: int64"
      ]
     },
     "execution_count": 21,
     "metadata": {},
     "output_type": "execute_result"
    }
   ],
   "source": [
    "df['popular'] = 1 * (df['avg_rating'] >=df['avg_rating'].quantile(0.75))\n",
    "print df.columns.values\n",
    "df['popular'].value_counts()\n",
    "#df.to_csv(\"model_dataset.csv\")"
   ]
  },
  {
   "cell_type": "code",
   "execution_count": 22,
   "metadata": {},
   "outputs": [
    {
     "data": {
      "text/html": [
       "<div>\n",
       "<style scoped>\n",
       "    .dataframe tbody tr th:only-of-type {\n",
       "        vertical-align: middle;\n",
       "    }\n",
       "\n",
       "    .dataframe tbody tr th {\n",
       "        vertical-align: top;\n",
       "    }\n",
       "\n",
       "    .dataframe thead th {\n",
       "        text-align: right;\n",
       "    }\n",
       "</style>\n",
       "<table border=\"1\" class=\"dataframe\">\n",
       "  <thead>\n",
       "    <tr style=\"text-align: right;\">\n",
       "      <th></th>\n",
       "      <th>num_players[a]</th>\n",
       "      <th>num_players[b]</th>\n",
       "      <th>num_players[c]</th>\n",
       "      <th>num_players[d]</th>\n",
       "      <th>num_players[f]</th>\n",
       "      <th>num_players[g]</th>\n",
       "      <th>num_players[h]</th>\n",
       "      <th>num_players[i]</th>\n",
       "      <th>num_players[j]</th>\n",
       "      <th>num_players[k]</th>\n",
       "      <th>num_players[l]</th>\n",
       "      <th>num_players[single_player]</th>\n",
       "      <th>num_players[two_player]</th>\n",
       "      <th>top_category</th>\n",
       "      <th>top_designer</th>\n",
       "      <th>avg_time</th>\n",
       "      <th>age</th>\n",
       "      <th>weight</th>\n",
       "    </tr>\n",
       "  </thead>\n",
       "  <tbody>\n",
       "    <tr>\n",
       "      <th>0</th>\n",
       "      <td>0.0</td>\n",
       "      <td>1.0</td>\n",
       "      <td>0.0</td>\n",
       "      <td>0.0</td>\n",
       "      <td>0.0</td>\n",
       "      <td>0.0</td>\n",
       "      <td>0.0</td>\n",
       "      <td>0.0</td>\n",
       "      <td>0.0</td>\n",
       "      <td>0.0</td>\n",
       "      <td>0.0</td>\n",
       "      <td>0.0</td>\n",
       "      <td>0.0</td>\n",
       "      <td>1.0</td>\n",
       "      <td>0.0</td>\n",
       "      <td>150.0</td>\n",
       "      <td>12.0</td>\n",
       "      <td>3.7720</td>\n",
       "    </tr>\n",
       "    <tr>\n",
       "      <th>1</th>\n",
       "      <td>0.0</td>\n",
       "      <td>0.0</td>\n",
       "      <td>0.0</td>\n",
       "      <td>0.0</td>\n",
       "      <td>1.0</td>\n",
       "      <td>0.0</td>\n",
       "      <td>0.0</td>\n",
       "      <td>0.0</td>\n",
       "      <td>0.0</td>\n",
       "      <td>0.0</td>\n",
       "      <td>0.0</td>\n",
       "      <td>0.0</td>\n",
       "      <td>0.0</td>\n",
       "      <td>1.0</td>\n",
       "      <td>0.0</td>\n",
       "      <td>60.0</td>\n",
       "      <td>13.0</td>\n",
       "      <td>2.8056</td>\n",
       "    </tr>\n",
       "    <tr>\n",
       "      <th>2</th>\n",
       "      <td>0.0</td>\n",
       "      <td>0.0</td>\n",
       "      <td>0.0</td>\n",
       "      <td>0.0</td>\n",
       "      <td>1.0</td>\n",
       "      <td>0.0</td>\n",
       "      <td>0.0</td>\n",
       "      <td>0.0</td>\n",
       "      <td>0.0</td>\n",
       "      <td>0.0</td>\n",
       "      <td>0.0</td>\n",
       "      <td>0.0</td>\n",
       "      <td>0.0</td>\n",
       "      <td>1.0</td>\n",
       "      <td>1.0</td>\n",
       "      <td>240.0</td>\n",
       "      <td>14.0</td>\n",
       "      <td>4.3538</td>\n",
       "    </tr>\n",
       "    <tr>\n",
       "      <th>3</th>\n",
       "      <td>0.0</td>\n",
       "      <td>0.0</td>\n",
       "      <td>0.0</td>\n",
       "      <td>0.0</td>\n",
       "      <td>0.0</td>\n",
       "      <td>0.0</td>\n",
       "      <td>0.0</td>\n",
       "      <td>0.0</td>\n",
       "      <td>0.0</td>\n",
       "      <td>0.0</td>\n",
       "      <td>0.0</td>\n",
       "      <td>0.0</td>\n",
       "      <td>1.0</td>\n",
       "      <td>1.0</td>\n",
       "      <td>0.0</td>\n",
       "      <td>180.0</td>\n",
       "      <td>13.0</td>\n",
       "      <td>3.5446</td>\n",
       "    </tr>\n",
       "    <tr>\n",
       "      <th>4</th>\n",
       "      <td>0.0</td>\n",
       "      <td>0.0</td>\n",
       "      <td>1.0</td>\n",
       "      <td>0.0</td>\n",
       "      <td>0.0</td>\n",
       "      <td>0.0</td>\n",
       "      <td>0.0</td>\n",
       "      <td>0.0</td>\n",
       "      <td>0.0</td>\n",
       "      <td>0.0</td>\n",
       "      <td>0.0</td>\n",
       "      <td>0.0</td>\n",
       "      <td>0.0</td>\n",
       "      <td>1.0</td>\n",
       "      <td>0.0</td>\n",
       "      <td>120.0</td>\n",
       "      <td>12.0</td>\n",
       "      <td>3.2465</td>\n",
       "    </tr>\n",
       "  </tbody>\n",
       "</table>\n",
       "</div>"
      ],
      "text/plain": [
       "   num_players[a]  num_players[b]  num_players[c]  num_players[d]  \\\n",
       "0             0.0             1.0             0.0             0.0   \n",
       "1             0.0             0.0             0.0             0.0   \n",
       "2             0.0             0.0             0.0             0.0   \n",
       "3             0.0             0.0             0.0             0.0   \n",
       "4             0.0             0.0             1.0             0.0   \n",
       "\n",
       "   num_players[f]  num_players[g]  num_players[h]  num_players[i]  \\\n",
       "0             0.0             0.0             0.0             0.0   \n",
       "1             1.0             0.0             0.0             0.0   \n",
       "2             1.0             0.0             0.0             0.0   \n",
       "3             0.0             0.0             0.0             0.0   \n",
       "4             0.0             0.0             0.0             0.0   \n",
       "\n",
       "   num_players[j]  num_players[k]  num_players[l]  num_players[single_player]  \\\n",
       "0             0.0             0.0             0.0                         0.0   \n",
       "1             0.0             0.0             0.0                         0.0   \n",
       "2             0.0             0.0             0.0                         0.0   \n",
       "3             0.0             0.0             0.0                         0.0   \n",
       "4             0.0             0.0             0.0                         0.0   \n",
       "\n",
       "   num_players[two_player]  top_category  top_designer  avg_time   age  weight  \n",
       "0                      0.0           1.0           0.0     150.0  12.0  3.7720  \n",
       "1                      0.0           1.0           0.0      60.0  13.0  2.8056  \n",
       "2                      0.0           1.0           1.0     240.0  14.0  4.3538  \n",
       "3                      1.0           1.0           0.0     180.0  13.0  3.5446  \n",
       "4                      0.0           1.0           0.0     120.0  12.0  3.2465  "
      ]
     },
     "execution_count": 22,
     "metadata": {},
     "output_type": "execute_result"
    }
   ],
   "source": [
    "Y, X = dmatrices('popular ~  0  + top_category + top_designer + num_players + avg_time + age + weight', df, return_type='dataframe')\n",
    "#Y, X = dmatrices('avg_rating ~ 0  + top_category + top_designer + num_players + avg_time + age + weight', df, return_type='dataframe')\n",
    "y = Y['popular'].values\n",
    "\n",
    "X_train, X_test, y_train, y_test = train_test_split(X, y, test_size=0.3, random_state=1) #random_state is seed\n",
    "X[:5]"
   ]
  },
  {
   "cell_type": "code",
   "execution_count": 23,
   "metadata": {
    "scrolled": true
   },
   "outputs": [
    {
     "name": "stdout",
     "output_type": "stream",
     "text": [
      "max_depth=1 scores=[0.74709302 0.74709302 0.74709302 0.74709302 0.74709302 0.74709302\n",
      " 0.74853801 0.74853801 0.74853801 0.74853801] avg_score=0.747671018632\n",
      "max_depth=2 scores=[0.79651163 0.78488372 0.79360465 0.75872093 0.77616279 0.78488372\n",
      " 0.75730994 0.7748538  0.7748538  0.78654971] avg_score=0.778833469332\n",
      "max_depth=3 scores=[0.77034884 0.80523256 0.76744186 0.76453488 0.77616279 0.80813953\n",
      " 0.7748538  0.7748538  0.78362573 0.75438596] avg_score=0.777957976336\n",
      "max_depth=4 scores=[0.78488372 0.77034884 0.79069767 0.77325581 0.80232558 0.77325581\n",
      " 0.79824561 0.7748538  0.77192982 0.77777778] avg_score=0.78175744594\n",
      "max_depth=5 scores=[0.79069767 0.78488372 0.79651163 0.79360465 0.79360465 0.80232558\n",
      " 0.75730994 0.78362573 0.80116959 0.74853801] avg_score=0.785227118183\n"
     ]
    }
   ],
   "source": [
    "from sklearn.model_selection import cross_val_score, StratifiedKFold\n",
    "from sklearn import metrics\n",
    "from sklearn import tree\n",
    "\n",
    "# Create the folds in the training data\n",
    "kfold = StratifiedKFold(n_splits=10, shuffle=True)\n",
    "\n",
    "# Iterate over max_depth\n",
    "for max_depth in [1, 2, 3, 4, 5]:\n",
    "    model3 = tree.DecisionTreeClassifier(criterion='entropy', max_depth=max_depth)\n",
    "    scores = cross_val_score(model3, X_train, y_train, cv=kfold)\n",
    "    print 'max_depth={} scores={} avg_score={}'.format(max_depth, scores, scores.mean())"
   ]
  },
  {
   "cell_type": "code",
   "execution_count": 33,
   "metadata": {},
   "outputs": [
    {
     "name": "stdout",
     "output_type": "stream",
     "text": [
      "0.8554778554778555\n",
      "0.7804214819850442\n",
      "271\n",
      "0.221044045677\n"
     ]
    },
    {
     "data": {
      "text/plain": [
       "0.6612336233623363"
      ]
     },
     "execution_count": 33,
     "metadata": {},
     "output_type": "execute_result"
    }
   ],
   "source": [
    "model = tree.DecisionTreeClassifier(criterion='entropy',max_depth=3)\n",
    "\n",
    "result = model.fit(X_train, y_train)\n",
    "\n",
    "prediction_train = model.predict(X_train)\n",
    "print metrics.accuracy_score(y_train, prediction_train)\n",
    "\n",
    "prediction = model.predict(X_test)\n",
    "print metrics.accuracy_score(y_test, prediction)\n",
    "#DataFrame(X_test, prediction).to_csv(\"prediction.csv\")\n",
    "print len(prediction[prediction==1])\n",
    "print len(prediction[prediction==1])/(1226 *1.0)\n",
    "\n",
    "from sklearn.metrics import roc_curve, auc\n",
    "false_positive_rate, true_positive_rate, thresholds = roc_curve(y_test, prediction)\n",
    "roc_auc = auc(false_positive_rate, true_positive_rate)\n",
    "roc_auc"
   ]
  },
  {
   "cell_type": "code",
   "execution_count": 37,
   "metadata": {},
   "outputs": [],
   "source": [
    "from sklearn.externals.six import StringIO  \n",
    "from IPython.display import Image  \n",
    "from sklearn.tree import export_graphviz\n",
    "import pydotplus\n",
    "dot_data = StringIO()\n",
    "export_graphviz(model, out_file=dot_data,  \n",
    "                filled=True, rounded=True,\n",
    "                special_characters=True, feature_names=X.columns.values)\n",
    "graph = pydotplus.graph_from_dot_data(dot_data.getvalue()).write_png('tree_small.png')\n",
    "#Image(graph.create_png())"
   ]
  },
  {
   "cell_type": "code",
   "execution_count": 36,
   "metadata": {},
   "outputs": [
    {
     "data": {
      "text/plain": [
       "True"
      ]
     },
     "execution_count": 36,
     "metadata": {},
     "output_type": "execute_result"
    }
   ],
   "source": [
    "from StringIO import StringIO\n",
    "import pydot_ng\n",
    "dot_data = StringIO()\n",
    "\n",
    "tree.export_graphviz(model, out_file=dot_data, feature_names=X.columns.values)\n",
    "pydot_ng.graph_from_dot_data(dot_data.getvalue()).write_png('tree_big.png')"
   ]
  },
  {
   "cell_type": "code",
   "execution_count": 32,
   "metadata": {},
   "outputs": [
    {
     "ename": "NotFittedError",
     "evalue": "This DecisionTreeClassifier instance is not fitted yet. Call 'fit' with appropriate arguments before using this method.",
     "output_type": "error",
     "traceback": [
      "\u001b[1;31m---------------------------------------------------------------------------\u001b[0m",
      "\u001b[1;31mNotFittedError\u001b[0m                            Traceback (most recent call last)",
      "\u001b[1;32m<ipython-input-32-21709e7c7340>\u001b[0m in \u001b[0;36m<module>\u001b[1;34m()\u001b[0m\n\u001b[0;32m      9\u001b[0m export_graphviz(model2, out_file=dot_data,  \n\u001b[0;32m     10\u001b[0m                 \u001b[0mfilled\u001b[0m\u001b[1;33m=\u001b[0m\u001b[0mTrue\u001b[0m\u001b[1;33m,\u001b[0m \u001b[0mrounded\u001b[0m\u001b[1;33m=\u001b[0m\u001b[0mTrue\u001b[0m\u001b[1;33m,\u001b[0m\u001b[1;33m\u001b[0m\u001b[0m\n\u001b[1;32m---> 11\u001b[1;33m                 special_characters=True, feature_names=X.columns.values)\n\u001b[0m\u001b[0;32m     12\u001b[0m \u001b[0mgraph\u001b[0m \u001b[1;33m=\u001b[0m \u001b[0mpydotplus\u001b[0m\u001b[1;33m.\u001b[0m\u001b[0mgraph_from_dot_data\u001b[0m\u001b[1;33m(\u001b[0m\u001b[0mdot_data\u001b[0m\u001b[1;33m.\u001b[0m\u001b[0mgetvalue\u001b[0m\u001b[1;33m(\u001b[0m\u001b[1;33m)\u001b[0m\u001b[1;33m)\u001b[0m\u001b[1;33m\u001b[0m\u001b[0m\n\u001b[0;32m     13\u001b[0m \u001b[0mImage\u001b[0m\u001b[1;33m(\u001b[0m\u001b[0mgraph\u001b[0m\u001b[1;33m.\u001b[0m\u001b[0mcreate_png\u001b[0m\u001b[1;33m(\u001b[0m\u001b[1;33m)\u001b[0m\u001b[1;33m)\u001b[0m\u001b[1;33m\u001b[0m\u001b[0m\n",
      "\u001b[1;32mC:\\Users\\abhin\\Anaconda2\\lib\\site-packages\\sklearn\\tree\\export.pyc\u001b[0m in \u001b[0;36mexport_graphviz\u001b[1;34m(decision_tree, out_file, max_depth, feature_names, class_names, label, filled, leaves_parallel, impurity, node_ids, proportion, rotate, rounded, special_characters, precision)\u001b[0m\n\u001b[0;32m    390\u001b[0m                 \u001b[0mout_file\u001b[0m\u001b[1;33m.\u001b[0m\u001b[0mwrite\u001b[0m\u001b[1;33m(\u001b[0m\u001b[1;34m'%d -> %d ;\\n'\u001b[0m \u001b[1;33m%\u001b[0m \u001b[1;33m(\u001b[0m\u001b[0mparent\u001b[0m\u001b[1;33m,\u001b[0m \u001b[0mnode_id\u001b[0m\u001b[1;33m)\u001b[0m\u001b[1;33m)\u001b[0m\u001b[1;33m\u001b[0m\u001b[0m\n\u001b[0;32m    391\u001b[0m \u001b[1;33m\u001b[0m\u001b[0m\n\u001b[1;32m--> 392\u001b[1;33m     \u001b[0mcheck_is_fitted\u001b[0m\u001b[1;33m(\u001b[0m\u001b[0mdecision_tree\u001b[0m\u001b[1;33m,\u001b[0m \u001b[1;34m'tree_'\u001b[0m\u001b[1;33m)\u001b[0m\u001b[1;33m\u001b[0m\u001b[0m\n\u001b[0m\u001b[0;32m    393\u001b[0m     \u001b[0mown_file\u001b[0m \u001b[1;33m=\u001b[0m \u001b[0mFalse\u001b[0m\u001b[1;33m\u001b[0m\u001b[0m\n\u001b[0;32m    394\u001b[0m     \u001b[0mreturn_string\u001b[0m \u001b[1;33m=\u001b[0m \u001b[0mFalse\u001b[0m\u001b[1;33m\u001b[0m\u001b[0m\n",
      "\u001b[1;32mC:\\Users\\abhin\\Anaconda2\\lib\\site-packages\\sklearn\\utils\\validation.pyc\u001b[0m in \u001b[0;36mcheck_is_fitted\u001b[1;34m(estimator, attributes, msg, all_or_any)\u001b[0m\n\u001b[0;32m    766\u001b[0m \u001b[1;33m\u001b[0m\u001b[0m\n\u001b[0;32m    767\u001b[0m     \u001b[1;32mif\u001b[0m \u001b[1;32mnot\u001b[0m \u001b[0mall_or_any\u001b[0m\u001b[1;33m(\u001b[0m\u001b[1;33m[\u001b[0m\u001b[0mhasattr\u001b[0m\u001b[1;33m(\u001b[0m\u001b[0mestimator\u001b[0m\u001b[1;33m,\u001b[0m \u001b[0mattr\u001b[0m\u001b[1;33m)\u001b[0m \u001b[1;32mfor\u001b[0m \u001b[0mattr\u001b[0m \u001b[1;32min\u001b[0m \u001b[0mattributes\u001b[0m\u001b[1;33m]\u001b[0m\u001b[1;33m)\u001b[0m\u001b[1;33m:\u001b[0m\u001b[1;33m\u001b[0m\u001b[0m\n\u001b[1;32m--> 768\u001b[1;33m         \u001b[1;32mraise\u001b[0m \u001b[0mNotFittedError\u001b[0m\u001b[1;33m(\u001b[0m\u001b[0mmsg\u001b[0m \u001b[1;33m%\u001b[0m \u001b[1;33m{\u001b[0m\u001b[1;34m'name'\u001b[0m\u001b[1;33m:\u001b[0m \u001b[0mtype\u001b[0m\u001b[1;33m(\u001b[0m\u001b[0mestimator\u001b[0m\u001b[1;33m)\u001b[0m\u001b[1;33m.\u001b[0m\u001b[0m__name__\u001b[0m\u001b[1;33m}\u001b[0m\u001b[1;33m)\u001b[0m\u001b[1;33m\u001b[0m\u001b[0m\n\u001b[0m\u001b[0;32m    769\u001b[0m \u001b[1;33m\u001b[0m\u001b[0m\n\u001b[0;32m    770\u001b[0m \u001b[1;33m\u001b[0m\u001b[0m\n",
      "\u001b[1;31mNotFittedError\u001b[0m: This DecisionTreeClassifier instance is not fitted yet. Call 'fit' with appropriate arguments before using this method."
     ]
    }
   ],
   "source": [
    "from sklearn.externals.six import StringIO  \n",
    "from IPython.display import Image  \n",
    "from sklearn.tree import export_graphviz\n",
    "import pydotplus\n",
    "\n",
    "model2 = tree.DecisionTreeClassifier(criterion='entropy',max_depth=10)\n",
    "result = model.fit(X_train, y_train)\n",
    "dot_data = StringIO()\n",
    "export_graphviz(model2, out_file=dot_data,  \n",
    "                filled=True, rounded=True,\n",
    "                special_characters=True, feature_names=X.columns.values)\n",
    "graph = pydotplus.graph_from_dot_data(dot_data.getvalue())\n",
    "Image(graph.create_png())"
   ]
  }
 ],
 "metadata": {
  "kernelspec": {
   "display_name": "Python 2",
   "language": "python",
   "name": "python2"
  },
  "language_info": {
   "codemirror_mode": {
    "name": "ipython",
    "version": 2
   },
   "file_extension": ".py",
   "mimetype": "text/x-python",
   "name": "python",
   "nbconvert_exporter": "python",
   "pygments_lexer": "ipython2",
   "version": "2.7.15"
  }
 },
 "nbformat": 4,
 "nbformat_minor": 2
}
